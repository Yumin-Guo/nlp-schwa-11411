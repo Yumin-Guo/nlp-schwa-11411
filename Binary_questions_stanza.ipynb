{
 "cells": [
  {
   "cell_type": "code",
   "execution_count": 116,
   "metadata": {},
   "outputs": [],
   "source": [
    "phrase = \"Snowboarding is a recreational and competitive activity. It involves descending a snow-covered slope while standing on a snowboard that is almost always attached to a rider's feet. It features in the Winter Olympic Games and Winter Paralympic Games. The development of snowboarding was inspired by skateboarding, sledding, surfing, and skiing. It was developed in the United States in the 1960s, became a Winter Olympic Sport at Nagano in 1998 and featured in the Winter Paralympics at Sochi in 2014. As of 2015, its popularity (as measured by equipment sales) in the United States peaked in 2007 and has been in a decline since.\""
   ]
  },
  {
   "cell_type": "code",
   "execution_count": 117,
   "metadata": {
    "scrolled": true
   },
   "outputs": [
    {
     "name": "stderr",
     "output_type": "stream",
     "text": [
      "2021-11-13 10:29:24 INFO: Loading these models for language: en (English):\n",
      "===========================\n",
      "| Processor    | Package  |\n",
      "---------------------------\n",
      "| tokenize     | combined |\n",
      "| pos          | combined |\n",
      "| constituency | wsj      |\n",
      "===========================\n",
      "\n",
      "2021-11-13 10:29:24 INFO: Use device: gpu\n",
      "2021-11-13 10:29:24 INFO: Loading: tokenize\n",
      "2021-11-13 10:29:24 INFO: Loading: pos\n",
      "2021-11-13 10:29:24 INFO: Loading: constituency\n",
      "2021-11-13 10:29:24 INFO: Done loading processors!\n"
     ]
    },
    {
     "name": "stdout",
     "output_type": "stream",
     "text": [
      "(ROOT (S (NP (NN Snowboarding)) (VP (VBZ is) (NP (DT a) (ADJP (JJ recreational) (CC and) (JJ competitive)) (NN activity))) (. .)))\n",
      "(ROOT (S (NP (PRP It)) (VP (VBZ features) (PP (IN in) (NP (NP (DT the) (NML (NNP Winter) (NNP Olympic)) (NNPS Games)) (CC and) (NP (NNP Winter) (NNP Paralympic) (NNPS Games))))) (. .)))\n",
      "(ROOT (S (NP (NP (DT The) (NN development)) (PP (IN of) (NP (NN snowboarding)))) (VP (VBD was) (VP (VBN inspired) (PP (IN by) (NP (NN skateboarding) (, ,) (NN sledding) (, ,) (NN surfing) (, ,) (CC and) (NN skiing))))) (. .)))\n",
      "(ROOT (S (NP (PRP It)) (VP (VBZ involves) (S (VP (VBG descending) (NP (DT a) (JJ snow-covered) (NN slope)))) (SBAR (IN while) (S (VP (VBG standing) (PP (IN on) (NP (NP (DT a) (NN snowboard)) (SBAR (WHNP (WDT that)) (S (VP (VBZ is) (ADVP (RB almost) (RB always)) (VP (VBN attached) (PP (IN to) (NP (NP (DT a) (NN rider) (POS 's)) (NNS feet))))))))))))) (. .)))\n",
      "(ROOT (S (PP (IN As) (PP (IN of) (NP (CD 2015)))) (, ,) (NP (NP (NP (PRP$ its) (NN popularity)) (ADJP (-LRB- () (IN as) (VBN measured))) (PP (IN by) (NP (NP (NN equipment) (NNS sales)) (ADVP (-RRB- )) (PP (IN in) (NP (DT the) (NNP United) (NNPS States))))))) (VP (VP (VBD peaked) (PP (IN in) (NP (CD 2007)))) (CC and) (VP (VBZ has) (VP (VBN been) (PP (IN in) (NP (DT a) (NN decline))) (ADVP (RB since))))) (. .)))\n",
      "(ROOT (S (S (NP (PRP It)) (VP (VBD was) (VP (VBN developed) (PP (IN in) (NP (DT the) (NNP United) (NNPS States))) (PP (IN in) (NP (DT the) (NNS 1960s)))))) (, ,) (VP (VBD became) (NP (NP (DT a) (NNP Winter) (NNP Olympic) (NNP Sport)) (PP (IN at) (NP (NNP Nagano)))) (PP (IN in) (NP (CD 1998)))) (CC and) (S (VP (VBD featured) (PP (IN in) (NP (NP (DT the) (NNP Winter) (NNPS Paralympics)) (PP (IN at) (NP (NNP Sochi))))) (PP (IN in) (NP (CD 2014))))) (. .)))\n"
     ]
    }
   ],
   "source": [
    "import stanza\n",
    "# phrase = \"Snowboarding is a recreational and competitive activity.\"\n",
    "nlp = stanza.Pipeline(lang='en', processors='tokenize,pos,constituency')\n",
    "doc = nlp(phrase)\n",
    "for sentence in doc.sentences:\n",
    "    print(sentence.constituency)"
   ]
  },
  {
   "cell_type": "code",
   "execution_count": 133,
   "metadata": {},
   "outputs": [
    {
     "data": {
      "text/plain": [
       "[\n",
       "  {\n",
       "    \"id\": 1,\n",
       "    \"text\": \"Snowboarding\",\n",
       "    \"upos\": \"NOUN\",\n",
       "    \"xpos\": \"NN\",\n",
       "    \"feats\": \"Number=Sing\",\n",
       "    \"start_char\": 0,\n",
       "    \"end_char\": 12\n",
       "  },\n",
       "  {\n",
       "    \"id\": 2,\n",
       "    \"text\": \"is\",\n",
       "    \"upos\": \"AUX\",\n",
       "    \"xpos\": \"VBZ\",\n",
       "    \"feats\": \"Mood=Ind|Number=Sing|Person=3|Tense=Pres|VerbForm=Fin\",\n",
       "    \"start_char\": 13,\n",
       "    \"end_char\": 15\n",
       "  },\n",
       "  {\n",
       "    \"id\": 3,\n",
       "    \"text\": \"a\",\n",
       "    \"upos\": \"DET\",\n",
       "    \"xpos\": \"DT\",\n",
       "    \"feats\": \"Definite=Ind|PronType=Art\",\n",
       "    \"start_char\": 16,\n",
       "    \"end_char\": 17\n",
       "  },\n",
       "  {\n",
       "    \"id\": 4,\n",
       "    \"text\": \"recreational\",\n",
       "    \"upos\": \"ADJ\",\n",
       "    \"xpos\": \"JJ\",\n",
       "    \"feats\": \"Degree=Pos\",\n",
       "    \"start_char\": 18,\n",
       "    \"end_char\": 30\n",
       "  },\n",
       "  {\n",
       "    \"id\": 5,\n",
       "    \"text\": \"and\",\n",
       "    \"upos\": \"CCONJ\",\n",
       "    \"xpos\": \"CC\",\n",
       "    \"start_char\": 31,\n",
       "    \"end_char\": 34\n",
       "  },\n",
       "  {\n",
       "    \"id\": 6,\n",
       "    \"text\": \"competitive\",\n",
       "    \"upos\": \"ADJ\",\n",
       "    \"xpos\": \"JJ\",\n",
       "    \"feats\": \"Degree=Pos\",\n",
       "    \"start_char\": 35,\n",
       "    \"end_char\": 46\n",
       "  },\n",
       "  {\n",
       "    \"id\": 7,\n",
       "    \"text\": \"activity\",\n",
       "    \"upos\": \"NOUN\",\n",
       "    \"xpos\": \"NN\",\n",
       "    \"feats\": \"Number=Sing\",\n",
       "    \"start_char\": 47,\n",
       "    \"end_char\": 55\n",
       "  },\n",
       "  {\n",
       "    \"id\": 8,\n",
       "    \"text\": \".\",\n",
       "    \"upos\": \"PUNCT\",\n",
       "    \"xpos\": \".\",\n",
       "    \"start_char\": 55,\n",
       "    \"end_char\": 56\n",
       "  }\n",
       "]"
      ]
     },
     "execution_count": 133,
     "metadata": {},
     "output_type": "execute_result"
    }
   ],
   "source": [
    "tree = doc.sentences[0].constituency\n",
    "doc.sentences[0]"
   ]
  },
  {
   "cell_type": "code",
   "execution_count": 119,
   "metadata": {},
   "outputs": [
    {
     "name": "stdout",
     "output_type": "stream",
     "text": [
      "(ROOT (S (NP (NN Snowboarding)) (VP (VBZ is) (NP (DT a) (ADJP (JJ recreational) (CC and) (JJ competitive)) (NN activity))) (. .)))\n",
      "\n",
      "(ROOT (S (NP (PRP It)) (VP (VBZ features) (PP (IN in) (NP (NP (DT the) (NML (NNP Winter) (NNP Olympic)) (NNPS Games)) (CC and) (NP (NNP Winter) (NNP Paralympic) (NNPS Games))))) (. .)))\n",
      "\n",
      "(ROOT (S (NP (NP (DT The) (NN development)) (PP (IN of) (NP (NN snowboarding)))) (VP (VBD was) (VP (VBN inspired) (PP (IN by) (NP (NN skateboarding) (, ,) (NN sledding) (, ,) (NN surfing) (, ,) (CC and) (NN skiing))))) (. .)))\n",
      "\n",
      "(ROOT (S (NP (PRP It)) (VP (VBZ involves) (S (VP (VBG descending) (NP (DT a) (JJ snow-covered) (NN slope)))) (SBAR (IN while) (S (VP (VBG standing) (PP (IN on) (NP (NP (DT a) (NN snowboard)) (SBAR (WHNP (WDT that)) (S (VP (VBZ is) (ADVP (RB almost) (RB always)) (VP (VBN attached) (PP (IN to) (NP (NP (DT a) (NN rider) (POS 's)) (NNS feet))))))))))))) (. .)))\n",
      "\n",
      "(ROOT (S (PP (IN As) (PP (IN of) (NP (CD 2015)))) (, ,) (NP (NP (NP (PRP$ its) (NN popularity)) (ADJP (-LRB- () (IN as) (VBN measured))) (PP (IN by) (NP (NP (NN equipment) (NNS sales)) (ADVP (-RRB- )) (PP (IN in) (NP (DT the) (NNP United) (NNPS States))))))) (VP (VP (VBD peaked) (PP (IN in) (NP (CD 2007)))) (CC and) (VP (VBZ has) (VP (VBN been) (PP (IN in) (NP (DT a) (NN decline))) (ADVP (RB since))))) (. .)))\n",
      "\n",
      "(ROOT (S (S (NP (PRP It)) (VP (VBD was) (VP (VBN developed) (PP (IN in) (NP (DT the) (NNP United) (NNPS States))) (PP (IN in) (NP (DT the) (NNS 1960s)))))) (, ,) (VP (VBD became) (NP (NP (DT a) (NNP Winter) (NNP Olympic) (NNP Sport)) (PP (IN at) (NP (NNP Nagano)))) (PP (IN in) (NP (CD 1998)))) (CC and) (S (VP (VBD featured) (PP (IN in) (NP (NP (DT the) (NNP Winter) (NNPS Paralympics)) (PP (IN at) (NP (NNP Sochi))))) (PP (IN in) (NP (CD 2014))))) (. .)))\n",
      "\n"
     ]
    }
   ],
   "source": [
    "for sentence in doc.sentences:\n",
    "    print(sentence.constituency)\n",
    "    print()"
   ]
  },
  {
   "cell_type": "code",
   "execution_count": 161,
   "metadata": {},
   "outputs": [
    {
     "data": {
      "text/plain": [
       "'Snowboarding'"
      ]
     },
     "execution_count": 161,
     "metadata": {},
     "output_type": "execute_result"
    }
   ],
   "source": [
    "tree.children[0].children[0].children[0].children[0].label"
   ]
  },
  {
   "cell_type": "code",
   "execution_count": 167,
   "metadata": {
    "scrolled": true
   },
   "outputs": [
    {
     "name": "stdout",
     "output_type": "stream",
     "text": [
      "Snowboarding is a recreational and competitive activity.\n",
      "-> do Snowboarding is is a recreational and competitive activity ?\n",
      "It involves descending a snow-covered slope while standing on a snowboard that is almost always attached to a rider's feet.\n",
      "-> do It features features in the Winter Olympic Games and Winter Paralympic Games ?\n",
      "It features in the Winter Olympic Games and Winter Paralympic Games.\n",
      "-> do The development of snowboarding was was inspired by skateboarding , sledding , surfing , and skiing ?\n",
      "The development of snowboarding was inspired by skateboarding, sledding, surfing, and skiing.\n",
      "-> do It involves involves descending a snow-covered slope while standing on a snowboard that is almost always attached to a rider 's feet ?\n",
      "0\n",
      "It was developed in the United States in the 1960s, became a Winter Olympic Sport at Nagano in 1998 and featured in the Winter Paralympics at Sochi in 2014.\n",
      "-> do As of 2015 , , ?\n",
      "0\n",
      "As of 2015, its popularity (as measured by equipment sales) in the United States peaked in 2007 and has been in a decline since.\n",
      "-> do It was developed in the United States in the 1960s , , ?\n"
     ]
    }
   ],
   "source": [
    "questions = []\n",
    "for sentence in doc.sentences:\n",
    "    tree = sentence.constituency\n",
    "    q = binary_questions(tree)\n",
    "    print(sentence.text)\n",
    "    print('-> ' + q)\n",
    "    questions.append(q)"
   ]
  },
  {
   "cell_type": "code",
   "execution_count": 166,
   "metadata": {},
   "outputs": [],
   "source": [
    "def binary_questions(tree):    \n",
    "    sentence_tree = tree.children[0]\n",
    "    assert(sentence_tree.label == 'S')\n",
    "    subj = sentence_tree.children[0]\n",
    "    if subj.label != 'NP':\n",
    "        print(0)\n",
    "    vp = sentence_tree.children[1]\n",
    "    head_verb = vp.children[0]\n",
    "    verb = head_verb.children[0] if head_verb.children else head_verb\n",
    "\n",
    "    return ' '.join(['do'] + tree2list(subj, []) + tree2list(head_verb, []) + tree2list(vp, []) + ['?'])\n"
   ]
  },
  {
   "cell_type": "code",
   "execution_count": 162,
   "metadata": {},
   "outputs": [],
   "source": [
    "def tree2list(node, ans):\n",
    "    if node.is_leaf():\n",
    "        ans.append(node.label)\n",
    "    for children in node.children:\n",
    "        tree2list(children, ans)\n",
    "    return ans"
   ]
  },
  {
   "cell_type": "code",
   "execution_count": 123,
   "metadata": {},
   "outputs": [],
   "source": [
    "def search(node, NP, VBZ):\n",
    "    if not node:\n",
    "        return\n",
    "    if node.label == 'NP':\n",
    "        NP.append(node.get_unique_words(node))\n",
    "    if node.label == 'VBZ':\n",
    "        VBZ.append(node.get_unique_words(node))\n",
    "    for children in node.children:\n",
    "        search(children, NP, VBZ)\n",
    "    return"
   ]
  },
  {
   "cell_type": "code",
   "execution_count": 113,
   "metadata": {},
   "outputs": [
    {
     "name": "stdout",
     "output_type": "stream",
     "text": [
      "\n",
      "[wh] features It\n",
      "[wh] features Games Olympic Paralympic Winter and the\n",
      "[wh] features Games Olympic Winter the\n",
      "[wh] features Games Paralympic Winter\n",
      "\n",
      "\n",
      "[wh] has 2015\n",
      "[wh] has ( ) States United as by equipment in its measured popularity sales the\n",
      "[wh] has ( as its measured popularity\n",
      "[wh] has its popularity\n",
      "[wh] has ) States United equipment in sales the\n",
      "[wh] has equipment sales\n",
      "[wh] has States United the\n",
      "[wh] has 2007\n",
      "[wh] has a decline\n",
      "\n",
      "[wh] is Snowboarding\n",
      "[wh] is 's a activity almost always and attached competitive descending feet involves is on recreational rider slope snow-covered snowboard standing that to while\n",
      "[wh] is a activity and competitive recreational\n",
      "[wh] is a slope snow-covered\n",
      "[wh] is 's a almost always attached feet is rider snowboard that to\n",
      "[wh] is a snowboard\n",
      "[wh] is 's a feet rider\n",
      "[wh] is 's a rider\n",
      "[wh] involves Snowboarding\n",
      "[wh] involves 's a activity almost always and attached competitive descending feet involves is on recreational rider slope snow-covered snowboard standing that to while\n",
      "[wh] involves a activity and competitive recreational\n",
      "[wh] involves a slope snow-covered\n",
      "[wh] involves 's a almost always attached feet is rider snowboard that to\n",
      "[wh] involves a snowboard\n",
      "[wh] involves 's a feet rider\n",
      "[wh] involves 's a rider\n",
      "[wh] is Snowboarding\n",
      "[wh] is 's a activity almost always and attached competitive descending feet involves is on recreational rider slope snow-covered snowboard standing that to while\n",
      "[wh] is a activity and competitive recreational\n",
      "[wh] is a slope snow-covered\n",
      "[wh] is 's a almost always attached feet is rider snowboard that to\n",
      "[wh] is a snowboard\n",
      "[wh] is 's a feet rider\n",
      "[wh] is 's a rider\n",
      "\n"
     ]
    }
   ],
   "source": [
    "for sentence in doc.sentences:\n",
    "    tree = sentence.constituency\n",
    "    node = tree.children[0]\n",
    "    NP = []\n",
    "    VBZ = []\n",
    "    search(node, NP, VBZ)\n",
    "    print()\n",
    "    for v in VBZ:\n",
    "        for n in NP:\n",
    "            print('[wh] ' + ' '.join(v + n))"
   ]
  },
  {
   "cell_type": "code",
   "execution_count": null,
   "metadata": {
    "scrolled": false
   },
   "outputs": [],
   "source": []
  },
  {
   "cell_type": "code",
   "execution_count": null,
   "metadata": {},
   "outputs": [],
   "source": []
  }
 ],
 "metadata": {
  "kernelspec": {
   "display_name": "Python 3",
   "language": "python",
   "name": "python3"
  },
  "language_info": {
   "codemirror_mode": {
    "name": "ipython",
    "version": 3
   },
   "file_extension": ".py",
   "mimetype": "text/x-python",
   "name": "python",
   "nbconvert_exporter": "python",
   "pygments_lexer": "ipython3",
   "version": "3.7.5"
  }
 },
 "nbformat": 4,
 "nbformat_minor": 2
}
