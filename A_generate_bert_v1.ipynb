{
  "nbformat": 4,
  "nbformat_minor": 0,
  "metadata": {
    "colab": {
      "name": "A_generate_bert_v1.ipynb",
      "provenance": [],
      "collapsed_sections": []
    },
    "kernelspec": {
      "name": "python3",
      "display_name": "Python 3"
    },
    "language_info": {
      "name": "python"
    }
  },
  "cells": [
    {
      "cell_type": "code",
      "metadata": {
        "id": "AWuVb8JolvO6"
      },
      "source": [
        "# all necessary packages\n",
        "!pip install bs4\n",
        "!pip install nltk\n",
        "!pip install -U spacy==2.1.0\n",
        "!python -m spacy download en\n",
        "!pip uninstall -y neuralcoref \n",
        "!pip install neuralcoref --no-binary neuralcoref\n",
        "\n",
        "!pip install sentence_transformers\n",
        "!pip install transformers"
      ],
      "execution_count": 1,
      "outputs": []
    },
    {
      "cell_type": "code",
      "metadata": {
        "colab": {
          "base_uri": "https://localhost:8080/"
        },
        "id": "EOO12YxgOf4T",
        "outputId": "4bf32cd1-6c4f-4f8d-cfd5-d48d5c63b933"
      },
      "source": [
        "import nltk\n",
        "nltk.download('punkt')\n",
        "\n",
        "import spacy\n",
        "import neuralcoref\n",
        "\n",
        "nlp = spacy.load('en_core_web_sm')  \n",
        "neuralcoref.add_to_pipe(nlp)"
      ],
      "execution_count": 2,
      "outputs": [
        {
          "output_type": "stream",
          "name": "stdout",
          "text": [
            "[nltk_data] Downloading package punkt to /root/nltk_data...\n",
            "[nltk_data]   Package punkt is already up-to-date!\n"
          ]
        },
        {
          "output_type": "execute_result",
          "data": {
            "text/plain": [
              "<spacy.lang.en.English at 0x7fe659110090>"
            ]
          },
          "metadata": {},
          "execution_count": 2
        }
      ]
    },
    {
      "cell_type": "code",
      "metadata": {
        "id": "KLO4jIhElWIi"
      },
      "source": [
        "from bs4 import BeautifulSoup as Soup\n",
        "\n",
        "file_name = \"a1.htm\"\n",
        "\n",
        "with open(file_name, 'r') as fp:\n",
        "    soup = Soup(fp, \"html.parser\")\n",
        "\n",
        "# given the header to be found and the size (h2 or h3) of the header,\n",
        "# return the passage below the section, with coreference resolved\n",
        "def get_text(title, size):\n",
        "  res = []\n",
        "  cT = soup.find(size, text=title)\n",
        "  nT = cT.next_sibling\n",
        "\n",
        "  while nT.name not in {'h2', 'h3'}:\n",
        "    if nT.name in ['p', 'blockquote'] and nT.text != \"\\n\":\n",
        "      res.append(nT.text)\n",
        "    nT = nT.next_sibling\n",
        "  \n",
        "  res = \" \".join(res)\n",
        "  res = res.replace('\\n', '')\n",
        "  doc = nlp(res) \n",
        "  return doc._.coref_resolved\n",
        "\n",
        "# get all subtitles, get rid of trivial ones, with the text under it\n",
        "titles2 = soup.find_all('h2')\n",
        "titles3 = soup.find_all('h3')\n",
        "# some headers that are not informative\n",
        "non_set = {'see also', 'notes', 'references', 'external links', 'citations'}\n",
        "\n",
        "filtered_titles = {} # a dict mapping from headers to text in the section\n",
        "\n",
        "# get all the texts under h2 or h3 and save to the dictionary\n",
        "for title in titles2:\n",
        "  title_standard = title.text.lower()\n",
        "  if title_standard not in non_set:\n",
        "    doc = nlp(title_standard)\n",
        "    res = \"\"\n",
        "    for token in doc:\n",
        "      res += token.lemma_ + \" \"\n",
        "    filtered_titles[res[:-1]] = get_text(title.text, 'h2')\n",
        "\n",
        "for title in titles3:\n",
        "  title_standard = title.text.lower()\n",
        "  if title_standard not in non_set:\n",
        "    doc = nlp(title_standard)\n",
        "    res = \"\"\n",
        "    for token in doc:\n",
        "      res += token.lemma_ + \" \"\n",
        "    filtered_titles[res[:-1]] = get_text(title.text, 'h3')\n",
        "\n",
        "# print(filtered_titles)\n"
      ],
      "execution_count": 5,
      "outputs": []
    },
    {
      "cell_type": "code",
      "metadata": {
        "id": "pAJAXYw5kFxr"
      },
      "source": [
        "question = \"Who composed the music for the film?\""
      ],
      "execution_count": 20,
      "outputs": []
    },
    {
      "cell_type": "code",
      "metadata": {
        "colab": {
          "base_uri": "https://localhost:8080/"
        },
        "id": "xsR_Suw9JPVF",
        "outputId": "77d50d64-0276-4933-f9ab-d0de83648607"
      },
      "source": [
        "import re\n",
        "\n",
        "# find the sections most likely corresponding to each question, if one exists\n",
        "def get_passages(question):\n",
        "  passages = []\n",
        "  q_words = []\n",
        "\n",
        "  doc = nlp(question)\n",
        "  for w in doc:\n",
        "    if not w.is_stop and not w.is_punct:\n",
        "      q_words.append(w.lemma_)\n",
        "  \n",
        "  q_words = \" \".join(q_words)\n",
        "  print(q_words)\n",
        "\n",
        "  for w in filtered_titles.keys():\n",
        "    if re.search(r'\\b{w}\\b'.format(w=w), q_words):\n",
        "      passages.append(filtered_titles[w])\n",
        "  \n",
        "  return passages\n",
        "\n",
        "get_passages(question)"
      ],
      "execution_count": 21,
      "outputs": [
        {
          "output_type": "stream",
          "name": "stdout",
          "text": [
            "compose music film\n"
          ]
        },
        {
          "output_type": "execute_result",
          "data": {
            "text/plain": [
              "['The film\\'s music was largely composed by Ludovic Bource, but includes works by other composers such as Alberto Ginastera\\'s \"Estancia\". The soundtrack was recorded in Belgium by the Brussels Philharmonic and was conducted by Ernst Van Tiel; the Brussels Jazz Orchestra also cooperated. The soundtrack took place during six days in April 2011 at Flagey\\'s Studio 4 in Brussels. The film\\'s climactic scene is set to Bernard Herrmann\\'s \"Scène d\\'amour\" from Bernard Herrmann\\'s \"Scène score to Alfred Hitchcock\\'s film Vertigo. In Vertigo, that composition similarly accompanies an extended scene without dialogue. Only one song (sung, with lyrics) is used in The soundtrack, \"Pennies from Heaven\", sung by Rose \"Chi-Chi\" Murphy (uncredited). Only one song (sung, with lyrics) was written in 1936 although The film is set between 1927 and 1932. The soundtrack was released on 21 October 2011 through Sony Classical Records.']"
            ]
          },
          "metadata": {},
          "execution_count": 21
        }
      ]
    },
    {
      "cell_type": "code",
      "metadata": {
        "id": "mmFcTB86fjDv"
      },
      "source": [
        "# setup for finding most similar sentence\n",
        "\n",
        "from sentence_transformers import SentenceTransformer\n",
        "model = SentenceTransformer('bert-base-nli-mean-tokens')\n",
        "from nltk.tokenize import sent_tokenize\n",
        "from sklearn.metrics.pairwise import cosine_similarity"
      ],
      "execution_count": 22,
      "outputs": []
    },
    {
      "cell_type": "code",
      "metadata": {
        "colab": {
          "base_uri": "https://localhost:8080/"
        },
        "id": "uZCLECyVh-Rb",
        "outputId": "6aea8865-7108-4dd2-f307-7e1c1c2e1e66"
      },
      "source": [
        "sentences = []\n",
        "sentences += [question]\n",
        "passages = get_passages(question) # in the case that keyword exists in header\n",
        "# if keyword exists, we can increase the weight of the answer; otherwise just\n",
        "# search randomly from the article for the highest answer; return the answer\n",
        "# with highest score\n",
        "\n",
        "# create a model containing embedded sentences\n",
        "for txt in passages:\n",
        "  for sent in sent_tokenize(txt):\n",
        "    sentences.append(sent)\n",
        "embeddings = model.encode(sentences)"
      ],
      "execution_count": 23,
      "outputs": [
        {
          "output_type": "stream",
          "name": "stdout",
          "text": [
            "compose music film\n"
          ]
        }
      ]
    },
    {
      "cell_type": "code",
      "metadata": {
        "colab": {
          "base_uri": "https://localhost:8080/"
        },
        "id": "mbZa4ObwicPA",
        "outputId": "c2fe1686-83d2-43a5-e21b-0fef2faf59b8"
      },
      "source": [
        "import heapq\n",
        "\n",
        "# from all candidate sentences, find the ones closer to the query\n",
        "msize = 8\n",
        "savings = [] # keep the top sentences\n",
        "for idx in range(0, 1):\n",
        "  print(sentences[idx], \"\\n\")\n",
        "  size = 0\n",
        "  pq = []\n",
        "  heapq.heapify(pq)\n",
        "\n",
        "  # print(\"\\nQ{idx}: \\n\".format(idx = idx))\n",
        "  for (i, res) in enumerate(cosine_similarity([embeddings[idx]], embeddings)[0]):\n",
        "    if i <= 0: continue\n",
        "    score = res\n",
        "    heapq.heappush(pq, (score, sentences[i]))\n",
        "    size += 1\n",
        "    if size > msize:\n",
        "      heapq.heappop(pq)\n",
        "    \n",
        "  savings.append(pq.copy())\n",
        "  while pq:\n",
        "    print(heapq.heappop(pq))"
      ],
      "execution_count": 24,
      "outputs": [
        {
          "output_type": "stream",
          "name": "stdout",
          "text": [
            "Who composed the music for the film? \n",
            "\n",
            "(0.34589365, 'In Vertigo, that composition similarly accompanies an extended scene without dialogue.')\n",
            "(0.362118, \"The soundtrack took place during six days in April 2011 at Flagey's Studio 4 in Brussels.\")\n",
            "(0.3753062, 'Only one song (sung, with lyrics) was written in 1936 although The film is set between 1927 and 1932.')\n",
            "(0.39511776, 'Only one song (sung, with lyrics) is used in The soundtrack, \"Pennies from Heaven\", sung by Rose \"Chi-Chi\" Murphy (uncredited).')\n",
            "(0.46096987, 'The soundtrack was recorded in Belgium by the Brussels Philharmonic and was conducted by Ernst Van Tiel; the Brussels Jazz Orchestra also cooperated.')\n",
            "(0.4777918, 'The soundtrack was released on 21 October 2011 through Sony Classical Records.')\n",
            "(0.60142684, 'The film\\'s climactic scene is set to Bernard Herrmann\\'s \"Scène d\\'amour\" from Bernard Herrmann\\'s \"Scène score to Alfred Hitchcock\\'s film Vertigo.')\n",
            "(0.6697978, 'The film\\'s music was largely composed by Ludovic Bource, but includes works by other composers such as Alberto Ginastera\\'s \"Estancia\".')\n"
          ]
        }
      ]
    },
    {
      "cell_type": "code",
      "metadata": {
        "id": "gtmDRhSSimum"
      },
      "source": [
        "from transformers import BertForQuestionAnswering, AutoTokenizer\n",
        "\n",
        "modelname = 'deepset/bert-base-cased-squad2'\n",
        "\n",
        "model_b = BertForQuestionAnswering.from_pretrained(modelname)\n",
        "tokenizer = AutoTokenizer.from_pretrained(modelname)\n",
        "\n",
        "from transformers import pipeline\n",
        "nlp_b = pipeline('question-answering', model=model_b, tokenizer=tokenizer)"
      ],
      "execution_count": 25,
      "outputs": []
    },
    {
      "cell_type": "code",
      "metadata": {
        "colab": {
          "base_uri": "https://localhost:8080/"
        },
        "id": "G-htHlgOjD1D",
        "outputId": "200e1591-1ff3-4296-b048-3c3fe7ddd27d"
      },
      "source": [
        "a = []\n",
        "for i in range(min(8, len(savings[0]))): # 0 here because only 1 question raised\n",
        "  a.append(savings[0][i][1])\n",
        "\n",
        "highest_score = 0\n",
        "best_ans = \"\"\n",
        "for txt in a:\n",
        "  tmp = nlp_b({\n",
        "      \"question\": question,\n",
        "      \"context\": txt\n",
        "  })\n",
        "  print(tmp)\n",
        "  if tmp['score'] > highest_score:\n",
        "    highest_score = tmp['score']\n",
        "    best_ans = tmp['answer']\n",
        "\n",
        "print(\"Final Answer:\")\n",
        "print(highest_score, best_ans)"
      ],
      "execution_count": 26,
      "outputs": [
        {
          "output_type": "stream",
          "name": "stdout",
          "text": [
            "{'score': 2.8897177983822075e-08, 'start': 3, 'end': 10, 'answer': 'Vertigo'}\n",
            "{'score': 0.007454487029463053, 'start': 59, 'end': 67, 'answer': \"Flagey's\"}\n",
            "{'score': 0.00043741127592511475, 'start': 49, 'end': 53, 'answer': '1936'}\n",
            "{'score': 0.002851171186193824, 'start': 55, 'end': 78, 'answer': 'Sony Classical Records.'}\n",
            "{'score': 0.47813281416893005, 'start': 37, 'end': 53, 'answer': 'Bernard Herrmann'}\n",
            "{'score': 0.9547514915466309, 'start': 89, 'end': 103, 'answer': 'Ernst Van Tiel'}\n",
            "{'score': 0.0008846460259519517, 'start': 107, 'end': 113, 'answer': 'Murphy'}\n",
            "{'score': 0.9939894676208496, 'start': 41, 'end': 55, 'answer': 'Ludovic Bource'}\n",
            "Final Answer:\n",
            "0.9939894676208496 Ludovic Bource\n"
          ]
        }
      ]
    }
  ]
}