{
 "cells": [
  {
   "cell_type": "code",
   "execution_count": 1,
   "id": "5c677743",
   "metadata": {},
   "outputs": [],
   "source": [
    "from transformers import BertForQuestionAnswering, AutoTokenizer\n",
    "from nltk.stem.lancaster import LancasterStemmer\n",
    "st = LancasterStemmer()\n",
    "\n",
    "modelname = 'deepset/bert-base-cased-squad2'\n",
    "\n",
    "model = BertForQuestionAnswering.from_pretrained(modelname)\n",
    "tokenizer = AutoTokenizer.from_pretrained(modelname)"
   ]
  },
  {
   "cell_type": "code",
   "execution_count": 2,
   "id": "1a7ad255",
   "metadata": {},
   "outputs": [],
   "source": [
    "from transformers import pipeline\n",
    "nlp = pipeline('question-answering', model=model, tokenizer=tokenizer)"
   ]
  },
  {
   "cell_type": "code",
   "execution_count": 3,
   "id": "4c2643a9",
   "metadata": {},
   "outputs": [],
   "source": [
    "a1_path = \"./Project-Data/set4/a1.txt\"\n",
    "a2_path = \"./Project-Data/set4/a2.txt\"\n",
    "a3_path = \"./Project-Data/set4/a3.txt\"\n",
    "a4_path = \"./Project-Data/set4/a4.txt\"\n",
    "a5_path = \"./Project-Data/set4/a5.txt\"\n",
    "a6_path = \"./Project-Data/set4/a6.txt\"\n",
    "a7_path = \"./Project-Data/set4/a7.txt\"\n",
    "a8_path = \"./Project-Data/set4/a8.txt\"\n",
    "a9_path = \"./Project-Data/set4/a9.txt\""
   ]
  },
  {
   "cell_type": "code",
   "execution_count": 4,
   "id": "88431c70",
   "metadata": {},
   "outputs": [],
   "source": [
    "import io"
   ]
  },
  {
   "cell_type": "code",
   "execution_count": 5,
   "id": "7645b235",
   "metadata": {},
   "outputs": [],
   "source": [
    "from nltk.corpus import stopwords"
   ]
  },
  {
   "cell_type": "code",
   "execution_count": 6,
   "id": "d5851bd0",
   "metadata": {},
   "outputs": [],
   "source": [
    "stop_words = set(stopwords.words('english'))"
   ]
  },
  {
   "cell_type": "code",
   "execution_count": 7,
   "id": "04026050",
   "metadata": {},
   "outputs": [],
   "source": [
    "def get_article(path):\n",
    "    with io.open(path, \"r\", encoding=\"utf-8\") as f:\n",
    "        article = f.read()\n",
    "    return article"
   ]
  },
  {
   "cell_type": "code",
   "execution_count": 8,
   "id": "868bcf19",
   "metadata": {},
   "outputs": [],
   "source": [
    "a1 = get_article(a1_path)\n",
    "a2 = get_article(a2_path)\n",
    "a3 = get_article(a3_path)\n",
    "a4 = get_article(a4_path)\n",
    "a5 = get_article(a5_path)\n",
    "a6 = get_article(a6_path)\n",
    "a7 = get_article(a7_path)\n",
    "a8 = get_article(a8_path)\n",
    "a9 = get_article(a9_path)"
   ]
  },
  {
   "cell_type": "code",
   "execution_count": 9,
   "id": "ee3abc14",
   "metadata": {},
   "outputs": [],
   "source": [
    "articles = [a1, a2, a3, a4, a5, a6, a7, a8, a9]"
   ]
  },
  {
   "cell_type": "code",
   "execution_count": null,
   "id": "98946949",
   "metadata": {},
   "outputs": [],
   "source": [
    "# topic recognition \n",
    "def movie(text):\n",
    "    # assume text given is only the first sentence\n",
    "    return re.search(\"film\", text, re.IGNORECASE) != None\n",
    "\n",
    "def football(text):\n",
    "    return re.searh(\"soccer player|footballer\", text, re.IGNORECASE) != None\n",
    "\n",
    "def constellation(text):\n",
    "    return re.search(\"constellation\", text, re.IGNORECASE) != None\n",
    "\n",
    "def language(text):\n",
    "    return re.search(\"language\", text, re.IGNORECASE) != None"
   ]
  },
  {
   "cell_type": "code",
   "execution_count": 10,
   "id": "af74574b",
   "metadata": {},
   "outputs": [],
   "source": [
    "film_questions = [\n",
    "    \"What is the genre of the film?\",\n",
    "    \"When was the film released?\", \n",
    "    \"Who is the director of the film?\",\n",
    "    \"What is the box office of the film?\",\n",
    "    \"What is the film criticised for?\",\n",
    "    \"What are some characters in the film?\",\n",
    "    \"Did the film win any awards?\",\n",
    "    \"Is the film a success?\"\n",
    "]"
   ]
  },
  {
   "cell_type": "code",
   "execution_count": 11,
   "id": "da70cbd2",
   "metadata": {},
   "outputs": [],
   "source": [
    "def handle_1st(context, question):\n",
    "    # find in 1st sentence\n",
    "    first_sent = context.split(\"\\n\\n\\n\")[1].split(\".\")[0]\n",
    "    ans = nlp({\n",
    "        \"question\": question,\n",
    "        \"context\": first_sent\n",
    "    })\n",
    "    return ans[\"answer\"]"
   ]
  },
  {
   "cell_type": "code",
   "execution_count": 12,
   "id": "d6c8cbd5",
   "metadata": {},
   "outputs": [],
   "source": [
    "def handle_intro(context, question):\n",
    "    intro = context.split(\"\\n\\n\\n\")[1]\n",
    "    ans = nlp({\n",
    "        \"question\": question,\n",
    "        \"context\": intro\n",
    "    })\n",
    "    return ans[\"answer\"]"
   ]
  },
  {
   "cell_type": "code",
   "execution_count": 25,
   "id": "ff35ab2f",
   "metadata": {},
   "outputs": [],
   "source": [
    "film_keywords_1st_sent = set([\"genre\", \"country\", \"time\"])\n",
    "film_1st_sent_handler = (film_keywords_1st_sent, handle_1st)\n",
    "film_keywords_intro = set([\"written\", \"directed\", \"edited\", \"produced\", \"box office\", \\\n",
    "                            \"review\", \"acclaimed\", \"praised\", \"criticized\", \"nominate\", \"award\", \"success\"])\n",
    "film_intro_handler = (film_keywords_intro, handle_intro)"
   ]
  },
  {
   "cell_type": "code",
   "execution_count": 14,
   "id": "5e692027",
   "metadata": {},
   "outputs": [],
   "source": [
    "film_handlers = [film_1st_sent_handler, film_intro_handler]"
   ]
  },
  {
   "cell_type": "code",
   "execution_count": 23,
   "id": "0a3ed687",
   "metadata": {},
   "outputs": [],
   "source": [
    "def hardcode(context, question, handlers):\n",
    "    for keywords, handler in handlers:\n",
    "        for keyword in keywords:\n",
    "            if keyword in question:\n",
    "                ans = handler(context, question)\n",
    "                return ans\n",
    "    return None # answer can't be found through hardcode"
   ]
  },
  {
   "cell_type": "code",
   "execution_count": 26,
   "id": "96369fe7",
   "metadata": {},
   "outputs": [
    {
     "name": "stdout",
     "output_type": "stream",
     "text": [
      "What is the genre of the film?\n",
      "romantic comedy-drama\n",
      "When was the film released?\n",
      "None\n",
      "Who is the director of the film?\n",
      "Michel Hazanavicius\n",
      "What is the box office of the film?\n",
      "won five\n",
      "What is the film criticised for?\n",
      "None\n",
      "What are some characters in the film?\n",
      "None\n",
      "Did the film win any awards?\n",
      "the most of any film from 2011\n",
      "Is the film a success?\n",
      "received highly positive reviews from critics and won many accolades.\n"
     ]
    }
   ],
   "source": [
    "def check1(question)\n",
    "for question in film_questions:\n",
    "    print(question)\n",
    "    ans = hardcode(a1, question, film_handlers)\n",
    "    print(ans)\n",
    "    "
   ]
  },
  {
   "cell_type": "code",
   "execution_count": null,
   "id": "66c994cb",
   "metadata": {},
   "outputs": [],
   "source": [
    "answers = []\n",
    "def check1(context, question):\n",
    "    ans = None\n",
    "    if movie(context):\n",
    "        ans = hardcode(context, question, film_handlers)\n",
    "    elif football(context):\n",
    "        ans = hardcode(context, question, football_handlers)\n",
    "    elif constellation(context):\n",
    "        ans = hardcode(context, question, constellation_handlers)\n",
    "    elif language(context):\n",
    "        ans = hardcode(context, question, language_handlers)\n",
    "    \n",
    "    if ans:\n",
    "        answers.append(ans)\n",
    "    check2(context, question)"
   ]
  },
  {
   "cell_type": "code",
   "execution_count": null,
   "id": "2374b157",
   "metadata": {},
   "outputs": [],
   "source": []
  },
  {
   "cell_type": "code",
   "execution_count": null,
   "id": "d39dd9e4",
   "metadata": {},
   "outputs": [],
   "source": []
  },
  {
   "cell_type": "code",
   "execution_count": null,
   "id": "0b046063",
   "metadata": {},
   "outputs": [],
   "source": []
  }
 ],
 "metadata": {
  "kernelspec": {
   "display_name": "Python 3",
   "language": "python",
   "name": "python3"
  },
  "language_info": {
   "codemirror_mode": {
    "name": "ipython",
    "version": 3
   },
   "file_extension": ".py",
   "mimetype": "text/x-python",
   "name": "python",
   "nbconvert_exporter": "python",
   "pygments_lexer": "ipython3",
   "version": "3.8.8"
  }
 },
 "nbformat": 4,
 "nbformat_minor": 5
}
