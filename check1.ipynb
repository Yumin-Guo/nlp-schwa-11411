{
 "cells": [
  {
   "cell_type": "code",
   "execution_count": 1,
   "id": "5c677743",
   "metadata": {},
   "outputs": [],
   "source": [
    "from transformers import BertForQuestionAnswering, AutoTokenizer\n",
    "from nltk.stem.lancaster import LancasterStemmer\n",
    "st = LancasterStemmer()\n",
    "\n",
    "modelname = 'deepset/bert-base-cased-squad2'\n",
    "\n",
    "model = BertForQuestionAnswering.from_pretrained(modelname)\n",
    "tokenizer = AutoTokenizer.from_pretrained(modelname)"
   ]
  },
  {
   "cell_type": "code",
   "execution_count": 2,
   "id": "1a7ad255",
   "metadata": {},
   "outputs": [],
   "source": [
    "from transformers import pipeline\n",
    "nlp = pipeline('question-answering', model=model, tokenizer=tokenizer)"
   ]
  },
  {
   "cell_type": "code",
   "execution_count": 3,
   "id": "4c2643a9",
   "metadata": {},
   "outputs": [],
   "source": [
    "a1_path = \"./Project-Data/set4/a1.txt\"\n",
    "a2_path = \"./Project-Data/set4/a2.txt\"\n",
    "a3_path = \"./Project-Data/set4/a3.txt\"\n",
    "a4_path = \"./Project-Data/set4/a4.txt\"\n",
    "a5_path = \"./Project-Data/set4/a5.txt\"\n",
    "a6_path = \"./Project-Data/set4/a6.txt\"\n",
    "a7_path = \"./Project-Data/set4/a7.txt\"\n",
    "a8_path = \"./Project-Data/set4/a8.txt\"\n",
    "a9_path = \"./Project-Data/set4/a9.txt\""
   ]
  },
  {
   "cell_type": "code",
   "execution_count": 4,
   "id": "88431c70",
   "metadata": {},
   "outputs": [],
   "source": [
    "import io"
   ]
  },
  {
   "cell_type": "code",
   "execution_count": 5,
   "id": "7645b235",
   "metadata": {},
   "outputs": [],
   "source": [
    "from nltk.corpus import stopwords"
   ]
  },
  {
   "cell_type": "code",
   "execution_count": 6,
   "id": "d5851bd0",
   "metadata": {},
   "outputs": [],
   "source": [
    "stop_words = set(stopwords.words('english'))"
   ]
  },
  {
   "cell_type": "code",
   "execution_count": 7,
   "id": "04026050",
   "metadata": {},
   "outputs": [],
   "source": [
    "def get_article(path):\n",
    "    with io.open(path, \"r\", encoding=\"utf-8\") as f:\n",
    "        article = f.read()\n",
    "    return article"
   ]
  },
  {
   "cell_type": "code",
   "execution_count": 8,
   "id": "868bcf19",
   "metadata": {},
   "outputs": [],
   "source": [
    "a1 = get_article(a1_path)\n",
    "a2 = get_article(a2_path)\n",
    "a3 = get_article(a3_path)\n",
    "a4 = get_article(a4_path)\n",
    "a5 = get_article(a5_path)\n",
    "a6 = get_article(a6_path)\n",
    "a7 = get_article(a7_path)\n",
    "a8 = get_article(a8_path)\n",
    "a9 = get_article(a9_path)"
   ]
  },
  {
   "cell_type": "code",
   "execution_count": 9,
   "id": "ee3abc14",
   "metadata": {},
   "outputs": [],
   "source": [
    "articles = [a1, a2, a3, a4, a5, a6, a7, a8, a9]"
   ]
  },
  {
   "cell_type": "code",
   "execution_count": 10,
   "id": "98946949",
   "metadata": {},
   "outputs": [],
   "source": [
    "# topic recognition \n",
    "def movie(text):\n",
    "    # assume text given is only the first sentence\n",
    "    return re.search(\"film\", text, re.IGNORECASE) != None\n",
    "\n",
    "def football(text):\n",
    "    return re.searh(\"soccer player|footballer\", text, re.IGNORECASE) != None\n",
    "\n",
    "def constellation(text):\n",
    "    return re.search(\"constellation\", text, re.IGNORECASE) != None\n",
    "\n",
    "def language(text):\n",
    "    return re.search(\"language\", text, re.IGNORECASE) != None"
   ]
  },
  {
   "cell_type": "code",
   "execution_count": 11,
   "id": "af74574b",
   "metadata": {},
   "outputs": [],
   "source": [
    "film_questions = [\n",
    "    \"What is the genre of the film?\",\n",
    "    \"When was the film released?\", \n",
    "    \"Who is the director of the film?\",\n",
    "    \"What is the box office of the film?\",\n",
    "    \"What is the film criticised for?\",\n",
    "    \"What are some characters in the film?\",\n",
    "    \"Did the film win any awards?\",\n",
    "    \"Is the film a success?\"\n",
    "]"
   ]
  },
  {
   "cell_type": "code",
   "execution_count": 12,
   "id": "da70cbd2",
   "metadata": {},
   "outputs": [],
   "source": [
    "def handle_1st(context, question):\n",
    "    # find in 1st sentence\n",
    "    first_sent = context.split(\"\\n\\n\\n\")[1].split(\".\")[0]\n",
    "    ans = nlp({\n",
    "        \"question\": question,\n",
    "        \"context\": first_sent\n",
    "    })\n",
    "    return ans[\"answer\"]"
   ]
  },
  {
   "cell_type": "code",
   "execution_count": 13,
   "id": "d6c8cbd5",
   "metadata": {},
   "outputs": [],
   "source": [
    "def handle_intro(context, question):\n",
    "    intro = context.split(\"\\n\\n\\n\")[1]\n",
    "    ans = nlp({\n",
    "        \"question\": question,\n",
    "        \"context\": intro\n",
    "    })\n",
    "    return ans[\"answer\"]"
   ]
  },
  {
   "cell_type": "code",
   "execution_count": 14,
   "id": "d03a786c",
   "metadata": {},
   "outputs": [],
   "source": [
    "def handle(context, question, sect_name):\n",
    "    temp = context.split(\"\\n\\n\\n\")\n",
    "    sect = None\n",
    "    for i, p in enumerate(temp):\n",
    "        if p.startswith(sect_name):\n",
    "            sect = temp[i+1]\n",
    "            break\n",
    "    if not sect:\n",
    "        temp = context.split(\"\\n\")\n",
    "        for i, p in enumerate(temp):\n",
    "            if p.startswith(sect_name):\n",
    "                sect = temp[i+1]\n",
    "                break\n",
    "    if not sect:\n",
    "        return None\n",
    "    ans = nlp({\n",
    "        \"question\": question,\n",
    "        \"context\": sect\n",
    "    })\n",
    "    return ans[\"answer\"]"
   ]
  },
  {
   "cell_type": "code",
   "execution_count": 15,
   "id": "ff35ab2f",
   "metadata": {},
   "outputs": [],
   "source": [
    "film_keywords_1st_sent = set([\"genre\", \"country\", \"time\"])\n",
    "film_1st_sent_handler = (film_keywords_1st_sent, handle_1st, None)\n",
    "film_keywords_intro = set([\"written\", \"directed\", \"edited\", \"produced\", \"box office\", \\\n",
    "                            \"review\", \"acclaimed\", \"praised\", \"criticized\", \"nominate\", \"award\", \"success\"])\n",
    "film_intro_handler = (film_keywords_intro, handle_intro, None)\n",
    "\n",
    "film_handlers = [film_1st_sent_handler, film_intro_handler]"
   ]
  },
  {
   "cell_type": "code",
   "execution_count": 16,
   "id": "429e735a",
   "metadata": {},
   "outputs": [],
   "source": [
    "football_keywords_1st_sent = set([\"who\", \"born\", \"where\"])\n",
    "football_1st_sent_handler = (football_keywords_1st_sent, handle_1st, None)\n",
    "football_keywords_sec1 = set([\"childhood\", \"family\", \"parents\", \"recruited\", \"accepted\", \\\n",
    "                              \"grow up\"])\n",
    "football_sec1_handler = (football_keywords_sec1, handle, \"Early life\")\n",
    "football_keywords_sec2 = set([\"honors\", \"awards\"])\n",
    "football_sec2_handler = (football_keywords_sec2, handle, \"Honours\")\n",
    "\n",
    "football_handlers = [football_1st_sent_handler, football_sec1_handler, football_sec2_handler]"
   ]
  },
  {
   "cell_type": "code",
   "execution_count": 17,
   "id": "a409a8cc",
   "metadata": {},
   "outputs": [],
   "source": [
    "cons_keywords_intro = set([\"located\", \"where\", \"name\"]) \n",
    "cons_intro_handler = (cons_keywords_intro, handle_intro, None)\n",
    "cons_keywords_sec1 = set([\"stars\"])\n",
    "cons_sec1_handler = (cons_keywords_sec1, handle, \"Stars\")\n",
    "cons_keywords_sec2 = set([\"galaxy\", \"cluster\", \"nebula\"])\n",
    "cons_sec2_handler = (cons_keywords_sec2, handle, \"Deep-sky objects\")\n",
    "\n",
    "cons_handlers = [cons_intro_handler, cons_sec1_handler, cons_sec2_handler]"
   ]
  },
  {
   "cell_type": "code",
   "execution_count": 19,
   "id": "1f246cfe",
   "metadata": {},
   "outputs": [],
   "source": [
    "lang_keywords_sec1 = set([\"earliest\", \"develop\", \"transform\", \"simplify\", \"rise\", \\\n",
    "                          \"spread\", \"evolve\", \"change\", \"retain\", \"rename\", \"acquire\", \\\n",
    "                          \"abtain\"])\n",
    "lang_sec1_handler = (cons_keywords_sec1, handle, \"History\")\n",
    "lang_keywords_sec2 = set([\"grammatical\", \"noun\", \"adjective\", \"pronouns\", \"determiner\", \\\n",
    "                          \"verb\", \"syllable\", \"morpheme\", \"word classes\", \"syntax\"])\n",
    "lang_sec2_handler = (cons_keywords_sec2, handle, \"Grammar\")\n",
    "lang_keywords_sec3 = set([\"phonetic\", \"dialect\", \"pronunciation\", \"phoneme\", \"consonant\", \\\n",
    "                          \"tone\", \"vowel\", \"sound\", \"nasal\", \"rhythm\", \"intonation\"])\n",
    "lang_sec3_handler = (lang_keywords_sec3, handle, \"Phonology\")\n",
    "\n",
    "lang_handlers = [lang_sec1_handler, lang_sec2_handler, lang_sec3_handler]"
   ]
  },
  {
   "cell_type": "code",
   "execution_count": null,
   "id": "e67b874a",
   "metadata": {},
   "outputs": [],
   "source": []
  },
  {
   "cell_type": "code",
   "execution_count": null,
   "id": "685d4adb",
   "metadata": {},
   "outputs": [],
   "source": []
  },
  {
   "cell_type": "code",
   "execution_count": null,
   "id": "5e692027",
   "metadata": {},
   "outputs": [],
   "source": []
  },
  {
   "cell_type": "code",
   "execution_count": 20,
   "id": "0a3ed687",
   "metadata": {},
   "outputs": [],
   "source": [
    "def hardcode(context, question, handlers):\n",
    "    for keywords, handler, param in handlers:\n",
    "        for keyword in keywords:\n",
    "            if st.stem(keyword) in question:\n",
    "                if not param:\n",
    "                    ans = handler(context, question, param)\n",
    "                else:\n",
    "                    ans = handler(context, question)\n",
    "                return ans\n",
    "    return None # answer can't be found through hardcode"
   ]
  },
  {
   "cell_type": "code",
   "execution_count": 21,
   "id": "66c994cb",
   "metadata": {},
   "outputs": [],
   "source": [
    "answers = []\n",
    "def check1(context, question):\n",
    "    ans = None\n",
    "    if movie(context):\n",
    "        ans = hardcode(context, question, film_handlers)\n",
    "    elif football(context):\n",
    "        ans = hardcode(context, question, football_handlers)\n",
    "    elif constellation(context):\n",
    "        ans = hardcode(context, question, cons_handlers)\n",
    "    elif language(context):\n",
    "        ans = hardcode(context, question, lang_handlers)\n",
    "    \n",
    "    if ans:\n",
    "        answers.append(ans)\n",
    "    check2(context, question)"
   ]
  },
  {
   "cell_type": "code",
   "execution_count": null,
   "id": "2374b157",
   "metadata": {},
   "outputs": [],
   "source": []
  },
  {
   "cell_type": "code",
   "execution_count": null,
   "id": "d39dd9e4",
   "metadata": {},
   "outputs": [],
   "source": []
  },
  {
   "cell_type": "code",
   "execution_count": null,
   "id": "0b046063",
   "metadata": {},
   "outputs": [],
   "source": []
  }
 ],
 "metadata": {
  "kernelspec": {
   "display_name": "Python 3",
   "language": "python",
   "name": "python3"
  },
  "language_info": {
   "codemirror_mode": {
    "name": "ipython",
    "version": 3
   },
   "file_extension": ".py",
   "mimetype": "text/x-python",
   "name": "python",
   "nbconvert_exporter": "python",
   "pygments_lexer": "ipython3",
   "version": "3.8.8"
  }
 },
 "nbformat": 4,
 "nbformat_minor": 5
}
