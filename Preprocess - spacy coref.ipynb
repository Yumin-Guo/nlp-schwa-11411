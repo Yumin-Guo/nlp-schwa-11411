{
 "cells": [
  {
   "cell_type": "code",
   "execution_count": 1,
   "id": "a83123d1",
   "metadata": {
    "scrolled": true
   },
   "outputs": [
    {
     "name": "stdout",
     "output_type": "stream",
     "text": [
      "Collecting spacy==2.1.0\n",
      "  Downloading spacy-2.1.0-cp37-cp37m-macosx_10_6_intel.macosx_10_9_intel.macosx_10_9_x86_64.macosx_10_10_intel.macosx_10_10_x86_64.whl (31.1 MB)\n",
      "\u001b[K     |████████████████████████████████| 31.1 MB 28.1 MB/s eta 0:00:01\n",
      "\u001b[?25hCollecting blis<0.3.0,>=0.2.2\n",
      "  Downloading blis-0.2.4-cp37-cp37m-macosx_10_6_intel.macosx_10_9_intel.macosx_10_9_x86_64.macosx_10_10_intel.macosx_10_10_x86_64.whl (3.0 MB)\n",
      "\u001b[K     |████████████████████████████████| 3.0 MB 10.3 MB/s eta 0:00:01\n",
      "\u001b[?25hRequirement already satisfied: wasabi<1.1.0,>=0.0.12 in /opt/miniconda3/lib/python3.7/site-packages (from spacy==2.1.0) (0.8.2)\n",
      "Requirement already satisfied: requests<3.0.0,>=2.13.0 in /opt/miniconda3/lib/python3.7/site-packages (from spacy==2.1.0) (2.25.1)\n",
      "Collecting srsly<1.1.0,>=0.0.5\n",
      "  Downloading srsly-1.0.5-cp37-cp37m-macosx_10_9_x86_64.whl (177 kB)\n",
      "\u001b[K     |████████████████████████████████| 177 kB 18.8 MB/s eta 0:00:01\n",
      "\u001b[?25hRequirement already satisfied: numpy>=1.15.0 in /opt/miniconda3/lib/python3.7/site-packages (from spacy==2.1.0) (1.19.2)\n",
      "Requirement already satisfied: cymem<2.1.0,>=2.0.2 in /opt/miniconda3/lib/python3.7/site-packages (from spacy==2.1.0) (2.0.6)\n",
      "Collecting preshed<2.1.0,>=2.0.1\n",
      "  Downloading preshed-2.0.1-cp37-cp37m-macosx_10_6_intel.macosx_10_9_intel.macosx_10_9_x86_64.macosx_10_10_intel.macosx_10_10_x86_64.whl (145 kB)\n",
      "\u001b[K     |████████████████████████████████| 145 kB 26.3 MB/s eta 0:00:01\n",
      "\u001b[?25hCollecting thinc<7.1.0,>=7.0.2\n",
      "  Downloading thinc-7.0.8-cp37-cp37m-macosx_10_6_intel.macosx_10_9_intel.macosx_10_9_x86_64.macosx_10_10_intel.macosx_10_10_x86_64.whl (2.9 MB)\n",
      "\u001b[K     |████████████████████████████████| 2.9 MB 26.0 MB/s eta 0:00:01\n",
      "\u001b[?25hCollecting plac<1.0.0,>=0.9.6\n",
      "  Downloading plac-0.9.6-py2.py3-none-any.whl (20 kB)\n",
      "Collecting jsonschema<3.0.0,>=2.6.0\n",
      "  Downloading jsonschema-2.6.0-py2.py3-none-any.whl (39 kB)\n",
      "Requirement already satisfied: murmurhash<1.1.0,>=0.28.0 in /opt/miniconda3/lib/python3.7/site-packages (from spacy==2.1.0) (1.0.6)\n",
      "Requirement already satisfied: certifi>=2017.4.17 in /opt/miniconda3/lib/python3.7/site-packages (from requests<3.0.0,>=2.13.0->spacy==2.1.0) (2021.10.8)\n",
      "Requirement already satisfied: chardet<5,>=3.0.2 in /opt/miniconda3/lib/python3.7/site-packages (from requests<3.0.0,>=2.13.0->spacy==2.1.0) (4.0.0)\n",
      "Requirement already satisfied: idna<3,>=2.5 in /opt/miniconda3/lib/python3.7/site-packages (from requests<3.0.0,>=2.13.0->spacy==2.1.0) (2.10)\n",
      "Requirement already satisfied: urllib3<1.27,>=1.21.1 in /opt/miniconda3/lib/python3.7/site-packages (from requests<3.0.0,>=2.13.0->spacy==2.1.0) (1.26.6)\n",
      "Requirement already satisfied: tqdm<5.0.0,>=4.10.0 in /opt/miniconda3/lib/python3.7/site-packages (from thinc<7.1.0,>=7.0.2->spacy==2.1.0) (4.61.2)\n",
      "Installing collected packages: srsly, preshed, plac, blis, thinc, jsonschema, spacy\n",
      "  Attempting uninstall: srsly\n",
      "    Found existing installation: srsly 2.4.2\n",
      "    Uninstalling srsly-2.4.2:\n",
      "      Successfully uninstalled srsly-2.4.2\n",
      "  Attempting uninstall: preshed\n",
      "    Found existing installation: preshed 3.0.6\n",
      "    Uninstalling preshed-3.0.6:\n",
      "      Successfully uninstalled preshed-3.0.6\n",
      "  Attempting uninstall: blis\n",
      "    Found existing installation: blis 0.7.5\n",
      "    Uninstalling blis-0.7.5:\n",
      "      Successfully uninstalled blis-0.7.5\n",
      "  Attempting uninstall: thinc\n",
      "    Found existing installation: thinc 8.0.12\n",
      "    Uninstalling thinc-8.0.12:\n",
      "      Successfully uninstalled thinc-8.0.12\n",
      "  Attempting uninstall: jsonschema\n",
      "    Found existing installation: jsonschema 3.2.0\n",
      "    Uninstalling jsonschema-3.2.0:\n",
      "      Successfully uninstalled jsonschema-3.2.0\n",
      "  Attempting uninstall: spacy\n",
      "    Found existing installation: spacy 3.2.0\n",
      "    Uninstalling spacy-3.2.0:\n",
      "      Successfully uninstalled spacy-3.2.0\n",
      "\u001b[31mERROR: pip's dependency resolver does not currently take into account all the packages that are installed. This behaviour is the source of the following dependency conflicts.\n",
      "en-core-web-sm 3.2.0 requires spacy<3.3.0,>=3.2.0, but you have spacy 2.1.0 which is incompatible.\u001b[0m\n",
      "Successfully installed blis-0.2.4 jsonschema-2.6.0 plac-0.9.6 preshed-2.0.1 spacy-2.1.0 srsly-1.0.5 thinc-7.0.8\n",
      "Collecting en_core_web_sm==2.1.0\n",
      "  Downloading https://github.com/explosion/spacy-models/releases/download/en_core_web_sm-2.1.0/en_core_web_sm-2.1.0.tar.gz (11.1 MB)\n",
      "\u001b[K     |████████████████████████████████| 11.1 MB 4.4 MB/s eta 0:00:01\n",
      "\u001b[?25hBuilding wheels for collected packages: en-core-web-sm\n",
      "  Building wheel for en-core-web-sm (setup.py) ... \u001b[?25ldone\n",
      "\u001b[?25h  Created wheel for en-core-web-sm: filename=en_core_web_sm-2.1.0-py3-none-any.whl size=11074433 sha256=a6e7d1489de2aa67c92c2bae4e22a0fefc8875cc4355ffc8707216f0eaacf059\n",
      "  Stored in directory: /private/var/folders/n8/mtxmg3s14xb9l3zf830hz6jc0000gn/T/pip-ephem-wheel-cache-l3vl0kjr/wheels/59/4f/8c/0dbaab09a776d1fa3740e9465078bfd903cc22f3985382b496\n",
      "Successfully built en-core-web-sm\n",
      "Installing collected packages: en-core-web-sm\n",
      "  Attempting uninstall: en-core-web-sm\n",
      "    Found existing installation: en-core-web-sm 3.2.0\n",
      "    Uninstalling en-core-web-sm-3.2.0:\n",
      "      Successfully uninstalled en-core-web-sm-3.2.0\n",
      "Successfully installed en-core-web-sm-2.1.0\n",
      "\u001b[38;5;2m✔ Download and installation successful\u001b[0m\n",
      "You can now load the model via spacy.load('en_core_web_sm')\n",
      "\u001b[38;5;2m✔ Linking successful\u001b[0m\n",
      "/opt/miniconda3/lib/python3.7/site-packages/en_core_web_sm -->\n",
      "/opt/miniconda3/lib/python3.7/site-packages/spacy/data/en\n",
      "You can now load the model via spacy.load('en')\n",
      "Found existing installation: neuralcoref 4.0\n",
      "Uninstalling neuralcoref-4.0:\n",
      "  Successfully uninstalled neuralcoref-4.0\n",
      "Collecting neuralcoref\n",
      "  Using cached neuralcoref-4.0.tar.gz (368 kB)\n",
      "Requirement already satisfied: numpy>=1.15.0 in /opt/miniconda3/lib/python3.7/site-packages (from neuralcoref) (1.19.2)\n",
      "Requirement already satisfied: boto3 in /opt/miniconda3/lib/python3.7/site-packages (from neuralcoref) (1.19.12)\n",
      "Requirement already satisfied: requests<3.0.0,>=2.13.0 in /opt/miniconda3/lib/python3.7/site-packages (from neuralcoref) (2.25.1)\n",
      "Requirement already satisfied: spacy>=2.1.0 in /opt/miniconda3/lib/python3.7/site-packages (from neuralcoref) (2.1.0)\n",
      "Requirement already satisfied: certifi>=2017.4.17 in /opt/miniconda3/lib/python3.7/site-packages (from requests<3.0.0,>=2.13.0->neuralcoref) (2021.10.8)\n",
      "Requirement already satisfied: chardet<5,>=3.0.2 in /opt/miniconda3/lib/python3.7/site-packages (from requests<3.0.0,>=2.13.0->neuralcoref) (4.0.0)\n",
      "Requirement already satisfied: idna<3,>=2.5 in /opt/miniconda3/lib/python3.7/site-packages (from requests<3.0.0,>=2.13.0->neuralcoref) (2.10)\n",
      "Requirement already satisfied: urllib3<1.27,>=1.21.1 in /opt/miniconda3/lib/python3.7/site-packages (from requests<3.0.0,>=2.13.0->neuralcoref) (1.26.6)\n",
      "Requirement already satisfied: murmurhash<1.1.0,>=0.28.0 in /opt/miniconda3/lib/python3.7/site-packages (from spacy>=2.1.0->neuralcoref) (1.0.6)\n",
      "Requirement already satisfied: plac<1.0.0,>=0.9.6 in /opt/miniconda3/lib/python3.7/site-packages (from spacy>=2.1.0->neuralcoref) (0.9.6)\n",
      "Requirement already satisfied: preshed<2.1.0,>=2.0.1 in /opt/miniconda3/lib/python3.7/site-packages (from spacy>=2.1.0->neuralcoref) (2.0.1)\n",
      "Requirement already satisfied: jsonschema<3.0.0,>=2.6.0 in /opt/miniconda3/lib/python3.7/site-packages (from spacy>=2.1.0->neuralcoref) (2.6.0)\n",
      "Requirement already satisfied: srsly<1.1.0,>=0.0.5 in /opt/miniconda3/lib/python3.7/site-packages (from spacy>=2.1.0->neuralcoref) (1.0.5)\n",
      "Requirement already satisfied: thinc<7.1.0,>=7.0.2 in /opt/miniconda3/lib/python3.7/site-packages (from spacy>=2.1.0->neuralcoref) (7.0.8)\n",
      "Requirement already satisfied: blis<0.3.0,>=0.2.2 in /opt/miniconda3/lib/python3.7/site-packages (from spacy>=2.1.0->neuralcoref) (0.2.4)\n",
      "Requirement already satisfied: cymem<2.1.0,>=2.0.2 in /opt/miniconda3/lib/python3.7/site-packages (from spacy>=2.1.0->neuralcoref) (2.0.6)\n",
      "Requirement already satisfied: wasabi<1.1.0,>=0.0.12 in /opt/miniconda3/lib/python3.7/site-packages (from spacy>=2.1.0->neuralcoref) (0.8.2)\n",
      "Requirement already satisfied: tqdm<5.0.0,>=4.10.0 in /opt/miniconda3/lib/python3.7/site-packages (from thinc<7.1.0,>=7.0.2->spacy>=2.1.0->neuralcoref) (4.61.2)\n",
      "Requirement already satisfied: botocore<1.23.0,>=1.22.12 in /opt/miniconda3/lib/python3.7/site-packages (from boto3->neuralcoref) (1.22.12)\n",
      "Requirement already satisfied: jmespath<1.0.0,>=0.7.1 in /opt/miniconda3/lib/python3.7/site-packages (from boto3->neuralcoref) (0.10.0)\n"
     ]
    },
    {
     "name": "stdout",
     "output_type": "stream",
     "text": [
      "Requirement already satisfied: s3transfer<0.6.0,>=0.5.0 in /opt/miniconda3/lib/python3.7/site-packages (from boto3->neuralcoref) (0.5.0)\n",
      "Requirement already satisfied: python-dateutil<3.0.0,>=2.1 in /opt/miniconda3/lib/python3.7/site-packages (from botocore<1.23.0,>=1.22.12->boto3->neuralcoref) (2.8.2)\n",
      "Requirement already satisfied: six>=1.5 in /opt/miniconda3/lib/python3.7/site-packages (from python-dateutil<3.0.0,>=2.1->botocore<1.23.0,>=1.22.12->boto3->neuralcoref) (1.16.0)\n",
      "Skipping wheel build for neuralcoref, due to binaries being disabled for it.\n",
      "Installing collected packages: neuralcoref\n",
      "    Running setup.py install for neuralcoref ... \u001b[?25ldone\n",
      "\u001b[?25hSuccessfully installed neuralcoref-4.0\n"
     ]
    }
   ],
   "source": [
    "# Credit - Kaveesha Baddage\n",
    "\n",
    "# Install spaCy and neuralcoref with correct versions \n",
    "\n",
    "!pip install -U spacy==2.1.0 \n",
    "\n",
    "!python -m spacy download en\n",
    "\n",
    "!pip uninstall -y neuralcoref \n",
    "\n",
    "!pip install neuralcoref --no-binary neuralcoref\n"
   ]
  },
  {
   "cell_type": "code",
   "execution_count": 19,
   "id": "daaa44a4",
   "metadata": {},
   "outputs": [
    {
     "data": {
      "text/plain": [
       "<spacy.lang.en.English at 0x13c52ac10>"
      ]
     },
     "execution_count": 19,
     "metadata": {},
     "output_type": "execute_result"
    }
   ],
   "source": [
    "# Import necessary libraries\n",
    "import spacy\n",
    "import neuralcoref\n",
    "\n",
    "# Load the model\n",
    "nlp = spacy.load('en_core_web_sm')  \n",
    "neuralcoref.add_to_pipe(nlp)\n",
    "\n",
    "# Coref Resolve Example Below\n",
    "# # Sample text to use to do coreference resolution\n",
    "# text = \" Alex said that he wants to go his home. Then Peter gave the key of his car to Alex saying that he needs it back on Monday. \"\n",
    "\n",
    "# # Retrieve the spaCy Doc (composed of Tokens)\n",
    "# doc = nlp(text)  \n",
    "\n",
    "\n",
    "# # Retrieve a list of all the clusters of corefering mentions using the doc._.coref_clusters attribute \n",
    "# print(doc._.coref_clusters)\n",
    "\n",
    "# # Replace corefering mentions with the main mentions in each cluster by using the doc._.coref_resolved attribute.\n",
    "# print(doc._.coref_resolved)\n"
   ]
  },
  {
   "cell_type": "code",
   "execution_count": 15,
   "id": "bf5dbc97",
   "metadata": {},
   "outputs": [],
   "source": [
    "def corefResolve(txt):\n",
    "    doc = nlp(txt)\n",
    "    print(doc._.coref_resolved)"
   ]
  },
  {
   "cell_type": "code",
   "execution_count": 17,
   "id": "ffae4e17",
   "metadata": {
    "scrolled": true
   },
   "outputs": [
    {
     "name": "stdout",
     "output_type": "stream",
     "text": [
      "[]\n",
      "The Artist (film)\n",
      "\n",
      "[a 2011 French romantic comedy-drama in the style of a black-and-white silent film: [a 2011 French romantic comedy-drama in the style of a black-and-white silent film, It]]\n",
      "The Artist is a 2011 French romantic comedy-drama in the style of a black-and-white silent film. a 2011 French romantic comedy-drama in the style of a black-and-white silent film was written, directed, and co-edited by Michel Hazanavicius, produced by Thomas Langmann and starred Jean Dujardin and Bérénice Bejo. The story takes place in Hollywood, between 1927 and 1932, and focuses on the relationship of an older silent film star and a rising young actress as silent cinema falls out of fashion and is replaced by the \"talkies\".\n",
      "\n",
      "[the first film presented in the 4:3 aspect ratio to win since 1953's From Here to Eternity: [the first film presented in the 4:3 aspect ratio to win since 1953's From Here to Eternity, that film, it]]\n",
      "It was nominated for ten Academy Awards and won five, including Best Picture for Langmann, Best Director for Hazanavicius, and Best Actor for Dujardin, making him the first French actor ever to win for Best Actor. It was also the first French film to ever win Best Picture, and the first mainly silent film to win since 1927's Wings won at the 1st Academy Awards in 1929. It was also the first film presented in the 4:3 aspect ratio to win since 1953's From Here to Eternity. Additionally, it was the first black-and-white film to win since 1993's Schindler's List, though the first film presented in the 4:3 aspect ratio to win since 1953's From Here to Eternity contained limited colour sequences; the first film presented in the 4:3 aspect ratio to win since 1953's From Here to Eternity was the first 100% black-and-white film to win since 1960's The Apartment.\n",
      "\n",
      "[]\n",
      "In France it was nominated for ten César Awards, winning six, including Best Film, Best Director for Hazanavicius and Best Actress for Bejo. The Artist became the most awarded French film in history.\n",
      "\n",
      "[]\n",
      "PlotEdit\n",
      "\n",
      "[silent film star George Valentin: [silent film star George Valentin, his, him, Valentin, Valentin, Valentin, he, his], Peppy: [Peppy, Peppy, herself, Peppy, she, Peppy, her, her, her, her, Peppy]]\n",
      "In 1927, silent film star George Valentin is posing for pictures outside the premiere of silent film star George Valentin latest hit film when a young woman, Peppy Miller, accidentally bumps into silent film star George Valentin. silent film star George Valentin reacts with humor to the accident and shows off with Peppy for the cameras. The next day, Peppy finds Peppy on the front page of Variety with the headline \"Who's That Girl?\" Later, Peppy auditions as a dancer and is spotted by Valentin, who insists that Peppy have a part in Kinograph Studios' next production, despite objections from the studio boss, Al Zimmer. While performing a scene in which they dance together, silent film star George Valentin and Peppy show great chemistry, despite Peppy being merely an extra. With a little guidance from silent film star George Valentin (silent film star George Valentin draws a beauty spot on Peppy, which will eventually be Peppy trademark, after finding Peppy in silent film star George Valentin dressing room), Peppy slowly rises through the industry, earning more prominent starring roles.\n",
      "\n",
      "[Valentin: [Valentin, Valentin, his, himself, He, his, himself, Valentin, his, Valentin, His, him, he, his, his], his own silent film: [his own silent film, The film, his film]]\n",
      "Two years later, Zimmer announces the end of production of silent films at Kinograph Studios, but Valentin is dismissive, insisting that sound is just a fad. In a dream, Valentin begins hearing sounds from Valentin environment (as does the audience), but cannot speak Valentin, then wakes up in a sweat. Valentin decides to produce and direct Valentin own silent film, financing it Valentin. his own silent film opens on the same day as Peppy's new sound film as well as the 1929 Stock Market Crash. Now Valentin's only chance of avoiding bankruptcy is for his own silent film to be a hit. Unfortunately audiences flock to Peppy's film instead and Valentin is ruined. Valentin wife, Doris, kicks Valentin out, and Valentin moves into an apartment with Valentin valet/chauffeur, Clifton, and Valentin dog. Peppy goes on to become a major Hollywood star.\n",
      "\n",
      "[the bankrupt Valentin: [the bankrupt Valentin, his, he, him, him, Valentin, his, his, he, Valentin, Valentin, he, him, Valentin, Valentin, him, Valentin, his], loyal Clifton: [loyal Clifton, Clifton, Clifton], the nitrate film: [the nitrate film, the film he rescued], Peppy: [Peppy, She, her, her, Peppy, Peppy], her house: [her house, her house]]\n",
      "Later, the bankrupt Valentin is forced to auction off all of the bankrupt Valentin personal effects, and after realizing the bankrupt Valentin has not paid loyal Clifton in over a year, gives the bankrupt Valentin the car and fires him, telling the bankrupt Valentin to get another job. Depressed and drunk, the bankrupt Valentin angrily sets a match to the bankrupt Valentin private collection of the bankrupt Valentin earlier films. As the nitrate film quickly blazes out of control the bankrupt Valentin is overwhelmed by the smoke and passes out inside the burning house, still clutching a single film canister. However, the bankrupt Valentin's dog attracts the help of a nearby policeman, and after being rescued the bankrupt Valentin is hospitalized for injuries suffered in the fire. Peppy visits the hospital and discovers that the nitrate film is the one with them dancing together. Peppy asks for the bankrupt Valentin to be moved to Peppy house to recuperate. the bankrupt Valentin awakens in a bed at her house, to find that loyal Clifton is now working for Peppy. the bankrupt Valentin seems to remain dismissive of Peppy having taken the bankrupt Valentin in, prompting loyal Clifton to sternly remind the bankrupt Valentin of the bankrupt Valentin changing luck.\n",
      "\n",
      "[Peppy: [Peppy, her, her, Peppy, Peppy, she, her, Peppy], Zimmer: [Zimmer, Zimmer, his, his, he, his, Zimmer], Valentin: [Valentin, Valentin, Valentin, Valentin, him, Valentin], Valentin is about to attempt suicide with a handgun: [Valentin is about to attempt suicide with a handgun, him, him], They: [They, them]]\n",
      "Peppy insists to Zimmer that Valentin co-star in Peppy next film, threatening to quit Kinograph if Zimmer does not agree to Peppy terms. After Valentin learns to Zimmer dismay that it had been Peppy who had purchased all Zimmer auctioned effects, Zimmer returns in despair to Zimmer burnt-out apartment. Peppy arrives, panicked, and finds that Valentin is about to attempt suicide with a handgun. Peppy tells Valentin is about to attempt suicide with a handgun Peppy only wanted to help Valentin is about to attempt suicide with a handgun. They embrace and Valentin tells Peppy it's no use; no one wants to hear Valentin speak. Remembering Valentin's superb dancing ability, Peppy persuades Zimmer to let They make a musical together.\n",
      "\n",
      "[Valentin: [Valentin, Valentin, his, his], the film crew: [the film crew, they]]\n",
      "Now the audience hears sound for the second time, as the film starts rolling for a dance scene with Peppy and Valentin and their tap-dancing can be heard. Once the choreography is complete, the two dancers are heard panting. The director of the musical calls out audibly, \"Cut!\" to which Zimmer adds: \"Perfect. Beautiful. Could you give me one more?\" Valentin, in Valentin only audible line, replies \"With pleasure!\" revealing Valentin French accent. The camera then pulls back to the sounds of the film crew as the film crew prepare to shoot another take.\n",
      "\n"
     ]
    }
   ],
   "source": [
    "# modify the file name to see the resolved text\n",
    "\n",
    "file = \"set3/a1.txt\" \n",
    "with open(file, 'r') as f:\n",
    "    contents = f.readlines()\n",
    "    for content in contents:\n",
    "        if content == \"\\n\":\n",
    "            continue\n",
    "        corefResolve(content)"
   ]
  },
  {
   "cell_type": "code",
   "execution_count": null,
   "id": "bb14d99d",
   "metadata": {},
   "outputs": [],
   "source": []
  }
 ],
 "metadata": {
  "kernelspec": {
   "display_name": "Python 3 (ipykernel)",
   "language": "python",
   "name": "python3"
  },
  "language_info": {
   "codemirror_mode": {
    "name": "ipython",
    "version": 3
   },
   "file_extension": ".py",
   "mimetype": "text/x-python",
   "name": "python",
   "nbconvert_exporter": "python",
   "pygments_lexer": "ipython3",
   "version": "3.7.10"
  }
 },
 "nbformat": 4,
 "nbformat_minor": 5
}
