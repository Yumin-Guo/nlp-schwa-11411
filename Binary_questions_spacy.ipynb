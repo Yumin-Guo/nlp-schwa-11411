{
 "cells": [
  {
   "cell_type": "code",
   "execution_count": 1,
   "metadata": {},
   "outputs": [
    {
     "name": "stdout",
     "output_type": "stream",
     "text": [
      "is\n"
     ]
    }
   ],
   "source": [
    "import spacy\n",
    "nlp = spacy.load('en_core_web_sm')\n",
    "doc = nlp(\"Apple is looking at buying U.K. startup for $1 billion\")\n",
    "\n",
    "for token in doc:\n",
    "    #print(token.text, token.lemma_, token.pos_, token.tag_, token.dep_, token.shape_, token.is_alpha, token.is_stop)\n",
    "    if token.pos_ == 'AUX':\n",
    "        print(token)"
   ]
  },
  {
   "cell_type": "code",
   "execution_count": 6,
   "metadata": {},
   "outputs": [],
   "source": [
    "def binaryQuestion(sentence):\n",
    "    doc =sentence\n",
    "    aux = None\n",
    "    tokens = [t for t in doc]\n",
    "    #print(\"=====================\")\n",
    "    #print(doc)\n",
    "    \n",
    "    for i, token in enumerate(doc):\n",
    "        #print(token.text, token.lemma_, token.pos_, token.tag_, token.dep_, token.shape_, token.is_alpha, token.is_stop)\n",
    "        #print([t for t in token.subtree])\n",
    "        if token.pos_ == 'AUX':\n",
    "            aux = token\n",
    "            if aux in tokens:\n",
    "                tokens.remove(aux)\n",
    "        if token.pos_ == 'SCONJ':\n",
    "            sconj_tree = token.head.subtree\n",
    "            tokens = [t for t in tokens if t not in token.head.subtree]\n",
    "        if token.dep_ == 'appos':\n",
    "            tokens = [t for t in tokens if t not in token.subtree]\n",
    "    if not aux:\n",
    "        #print(\"No AUX\")\n",
    "        return\n",
    "    return [aux.text] + [t.text for t in tokens if t.pos_ != 'PUNCT'] + ['?']"
   ]
  },
  {
   "cell_type": "code",
   "execution_count": 12,
   "metadata": {},
   "outputs": [],
   "source": [
    "text = \"The series was originally published in English by two major publishers, Bloomsbury in the United Kingdom and Scholastic Press in the United States. All versions around the world are printed by Grafica Veneta in Italy. Harry Potter is a series of seven fantasy novels written by British author J. K. Rowling. The novels chronicle the lives of a young wizard, Harry Potter, and his friends Hermione Granger and Ron Weasley, all of whom are students at Hogwarts School of Witchcraft and Wizardry. The main story arc concerns Harry's struggle against Lord Voldemort, a dark wizard who intends to become immortal, overthrow the wizard governing body known as the Ministry of Magic and subjugate all wizards and Muggles (non-magical people). Modern snowboarding began in 1965 when Sherman Poppen, an engineer in Muskegon, Michigan, invented a toy for his daughters by fastening two skis together and attaching a rope to one end so he would have some control as they stood on the board and glided downhill. Dubbed the 'snurfer' (combining snow and surfer) by his wife Nancy, the toy proved so popular among his daughters' friends that Poppen licensed the idea to a manufacturer, Brunswick Corporation, that sold about a million snurfers over the next decade. And, in 1966 alone, over half a million snurfers were sold.\" + \"In February 1968, Poppen organized the first snurfing competition at a Michigan ski resort that attracted enthusiasts from all over the country. One of those early pioneers was Tom Sims, a devotee of skateboarding (a sport born in the 1950s when kids attached roller skate wheels to small boards that they steered by shifting their weight). As an eighth grader in Haddonfield, New Jersey, in the 1960s, Sims crafted a snowboard in his school shop class by gluing carpet to the top of a piece of wood and attaching aluminum sheeting to the bottom. He produced commercial snowboards in the mid-70s. Basketball is a team sport in which two teams, most commonly of five players each, opposing one another on a rectangular court, compete with the primary objective of shooting a basketball (approximately 9.4 inches (24 cm) in diameter) through the defender's hoop (a basket 18 inches (46 cm) in diameter mounted 10 feet (3.048 m) high to a backboard at each end of the court) while preventing the opposing team from shooting through their own hoop. A field goal is worth two points, unless made from behind the three-point line, when it is worth three. After a foul, timed play stops and the player fouled or designated to shoot a technical foul is given one, two or three one-point free throws. The team with the most points at the end of the game wins, but if regulation play expires with the score tied, an additional period of play (overtime) is mandated.\""
   ]
  },
  {
   "cell_type": "code",
   "execution_count": 13,
   "metadata": {},
   "outputs": [
    {
     "name": "stdout",
     "output_type": "stream",
     "text": [
      "The series was originally published in English by two major publishers , Bloomsbury in the United Kingdom and Scholastic Press in the United States .\n",
      "==>was The series originally published in English by two major publishers ?\n",
      "\n",
      "All versions around the world are printed by Grafica Veneta in Italy .\n",
      "==>are All versions around the world printed by Grafica Veneta in Italy ?\n",
      "\n",
      "Harry Potter is a series of seven fantasy novels written by British author J. K. Rowling .\n",
      "==>is Harry Potter a series of seven fantasy novels written by British author J. K. Rowling ?\n",
      "\n",
      "The novels chronicle the lives of a young wizard , Harry Potter , and his friends Hermione Granger and Ron Weasley , all of whom are students at Hogwarts School of Witchcraft and Wizardry .\n",
      "==>are The novels chronicle the lives of a young wizard and his friends students at Hogwarts School of Witchcraft and Wizardry ?\n",
      "\n",
      "Modern snowboarding began in 1965 when Sherman Poppen , an engineer in Muskegon , Michigan , invented a toy for his daughters by fastening two skis together and attaching a rope to one end so he would have some control as they stood on the board and glided downhill .\n",
      "==>would Modern snowboarding began in 1965 ?\n",
      "\n",
      "And , in 1966 alone , over half a million snurfers were sold .\n",
      "==>were And in 1966 alone over half a million snurfers sold ?\n",
      "\n",
      "One of those early pioneers was Tom Sims , a devotee of skateboarding ( a sport born in the 1950s when kids attached roller skate wheels to small boards that they steered by shifting their weight ) .\n",
      "==>was One of those early pioneers Tom Sims ?\n",
      "\n",
      "Basketball is a team sport in which two teams , most commonly of five players each , opposing one another on a rectangular court , compete with the primary objective of shooting a basketball ( approximately 9.4 inches ( 24 cm ) in diameter ) through the defender 's hoop ( a basket 18 inches ( 46 cm ) in diameter mounted 10 feet ( 3.048 m ) high to a backboard at each end of the court ) while preventing the opposing team from shooting through their own hoop .\n",
      "==>is Basketball a team sport in which two teams most commonly of five players opposing one another on a rectangular court compete with the primary objective of shooting a basketball through the defender 's hoop mounted 10 feet high to a backboard at each end of the court ?\n",
      "\n",
      "A field goal is worth two points , unless made from behind the three - point line , when it is worth three .\n",
      "==>is A field goal worth two points ?\n",
      "\n",
      "After a foul , timed play stops and the player fouled or designated to shoot a technical foul is given one , two or three one - point free throws .\n",
      "==>is After a foul timed play stops and the player fouled or designated to shoot a technical foul given one ?\n",
      "\n",
      "The team with the most points at the end of the game wins , but if regulation play expires with the score tied , an additional period of play ( overtime ) is mandated .\n",
      "==>is The team with the most points at the end of the game wins but an additional period of play mandated ?\n",
      "\n"
     ]
    }
   ],
   "source": [
    "sentences = [s for s in nlp(text).sents]\n",
    "for sentence in sentences:\n",
    "    ans = binaryQuestion(sentence)\n",
    "    if ans:\n",
    "        print(\" \".join([t.text for t in sentence]))\n",
    "        print(\"==>\" + \" \".join(ans))\n",
    "        print()"
   ]
  },
  {
   "cell_type": "code",
   "execution_count": 15,
   "metadata": {},
   "outputs": [],
   "source": [
    "# 1. 删掉in which \n",
    "# is Basketball a team sport in which two teams most commonly of five players opposing one another on a rectangular court compete with the primary objective of shooting a basketball through the defender 's hoop mounted 10 feet high to a backboard at each end of the court ?\n",
    "# 2. 删掉by\n",
    "# 3. 找一些替换词"
   ]
  },
  {
   "cell_type": "code",
   "execution_count": null,
   "metadata": {},
   "outputs": [],
   "source": [
    "for token in nlp(text):\n",
    "    if token.pos_ in ['NOUN', 'ADJ']:\n",
    "        if token.dep_ in ['attr', 'acomp'] and token.head.lemma_ == 'be':\n",
    "            # to test for only verb forms 'is' and 'was' use token.head.lower_ in ['is', 'was']\n",
    "            print([t.text for t in token.subtree])"
   ]
  }
 ],
 "metadata": {
  "kernelspec": {
   "display_name": "Python 3",
   "language": "python",
   "name": "python3"
  },
  "language_info": {
   "codemirror_mode": {
    "name": "ipython",
    "version": 3
   },
   "file_extension": ".py",
   "mimetype": "text/x-python",
   "name": "python",
   "nbconvert_exporter": "python",
   "pygments_lexer": "ipython3",
   "version": "3.7.5"
  }
 },
 "nbformat": 4,
 "nbformat_minor": 2
}
