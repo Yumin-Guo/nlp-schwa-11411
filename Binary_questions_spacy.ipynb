{
 "cells": [
  {
   "cell_type": "code",
   "execution_count": 100,
   "metadata": {},
   "outputs": [],
   "source": [
    "import spacy\n",
    "import random\n",
    "nlp = spacy.load('en_core_web_sm')\n"
   ]
  },
  {
   "cell_type": "code",
   "execution_count": 106,
   "metadata": {},
   "outputs": [],
   "source": [
    "def get_entities(sentence, ent_dict):\n",
    "    for i, token in enumerate(sentence):\n",
    "        if token.pos_ != 'PART' and token.ent_type_:\n",
    "            if token.ent_type_ not in ent_dict:\n",
    "                ent_dict[token.ent_type_] = []\n",
    "            if token in ent_dict:\n",
    "                continue\n",
    "            ent_dict[token.ent_type_].append(token)"
   ]
  },
  {
   "cell_type": "code",
   "execution_count": 160,
   "metadata": {},
   "outputs": [],
   "source": [
    "def binaryQuestion(sentence, ent_dict):\n",
    "    aux = None\n",
    "    tokens = [t for t in sentence]\n",
    "    #print(\"=====================\")\n",
    "    #print(doc)\n",
    "    \n",
    "    for i, token in enumerate(sentence):\n",
    "        #print(token.text, token.ent_type_, token.lemma_, token.pos_, token.tag_, token.dep_, token.shape_, token.is_alpha, token.is_stop)\n",
    "        #print(token.text, token.ent_type_)\n",
    "        #print(token, token.head, [t for t in token.subtree])\n",
    "        if token.pos_ == 'AUX':\n",
    "            aux = token\n",
    "            if aux in tokens:\n",
    "                tokens.remove(aux)\n",
    "        if token.pos_ == 'SCONJ':\n",
    "            sconj_tree = token.head.subtree\n",
    "            tokens = [t for t in tokens if t not in token.head.subtree]\n",
    "            #print(\"deleting sconj: \", [t for t in token.head.subtree])\n",
    "        if token.dep_ == 'appos':\n",
    "            #print(\"deleting apposition: \", [t for t in token.subtree])\n",
    "            tokens = [t for t in tokens if t not in token.subtree]\n",
    "    \n",
    "    #print(ent_dict)\n",
    "    \n",
    "    if not aux:\n",
    "        #print(\"No AUX\")\n",
    "        return\n",
    "    if len(tokens) > 15:\n",
    "        return\n",
    "    \n",
    "    # tweak question by substituting named entities\n",
    "    def tweak_question():\n",
    "        for i, t in enumerate(tokens):\n",
    "            if not (t.pos_ != 'PART' and t.ent_type_):\n",
    "                continue\n",
    "            ind = (random.random() * (len(ent_dict[t.ent_type_]) - 1))\n",
    "            ind = int(ind)\n",
    "            if not t.pos_ == ent_dict[t.ent_type_][ind].pos_:\n",
    "                continue\n",
    "            tokens[i], ent_dict[t.ent_type_][ind] = ent_dict[t.ent_type_][ind], tokens[i]\n",
    "    \n",
    "    # generate random seed to decide if we want to tweak question\n",
    "    if random.random() < 0.66:\n",
    "        tweak_question()\n",
    "        print(\"=======tweaked question!=======\")\n",
    "    else:\n",
    "        print(\"=======untweaked question=======\")\n",
    "    \n",
    "    # Re-capitalize the sentence\n",
    "    texts = []\n",
    "    aux_text = aux.text[0].upper() + aux.text[1:]\n",
    "    for t in tokens:\n",
    "        if t.pos_ == 'PUNCT':\n",
    "            continue\n",
    "        if t.is_sent_start and t.pos_ != 'PROPN':\n",
    "            texts.append(t.text.lower())\n",
    "        else:\n",
    "            texts.append(t.text)\n",
    "    return [aux_text] + texts + ['?']"
   ]
  },
  {
   "cell_type": "code",
   "execution_count": 146,
   "metadata": {},
   "outputs": [],
   "source": [
    "text = \"Basketball is a team sport in which two teams, most commonly of five players each, opposing one another on a rectangular court, compete with the primary objective of shooting a basketball (approximately 9.4 inches (24 cm) in diameter) through the defender's hoop (a basket 18 inches (46 cm) in diameter mounted 10 feet (3.048 m) high to a backboard at each end of the court) while preventing the opposing team from shooting through their own hoop. A field goal is worth two points, unless made from behind the three-point line, when it is worth three. After a foul, timed play stops and the player fouled or designated to shoot a technical foul is given one, two or three one-point free throws. The team with the most points at the end of the game wins, but if regulation play expires with the score tied, an additional period of play (overtime) is mandated.\""
   ]
  },
  {
   "cell_type": "code",
   "execution_count": 137,
   "metadata": {},
   "outputs": [],
   "source": [
    "text = \"The film, which is the third instalment in the Harry Potter film series, was written by Steve Kloves and produced by Chris Columbus (director of the first two instalments), David Heyman, and Mark Radcliffe. The story follows Harry Potter's third year at Hogwarts as he is informed that a prisoner named Sirius Black has escaped from Azkaban intending to kill him.\""
   ]
  },
  {
   "cell_type": "code",
   "execution_count": 161,
   "metadata": {},
   "outputs": [
    {
     "name": "stdout",
     "output_type": "stream",
     "text": [
      "{'CARDINAL': [two, five, 3.048, two, three, three, two, three], 'QUANTITY': [approximately, 9.4, inches, 24, cm, 18, inches, 46, cm, 10, feet]}\n"
     ]
    }
   ],
   "source": [
    "sentences = [s for s in nlp(text).sents]\n",
    "ent_dict = {}\n",
    "for sentence in sentences:\n",
    "    get_entities(sentence, ent_dict)\n",
    "print(ent_dict)\n"
   ]
  },
  {
   "cell_type": "code",
   "execution_count": 162,
   "metadata": {},
   "outputs": [
    {
     "name": "stdout",
     "output_type": "stream",
     "text": [
      "=======tweaked question!=======\n",
      "A field goal is worth two points , unless made from behind the three - point line , when it is worth three .\n",
      "==>Is a field goal worth three points ?\n",
      "\n"
     ]
    }
   ],
   "source": [
    "for sentence in sentences:\n",
    "    ans = binaryQuestion(sentence, ent_dict)\n",
    "    if ans:\n",
    "        print(\" \".join([t.text for t in sentence]))\n",
    "        print(\"==>\" + \" \".join(ans))\n",
    "        print()"
   ]
  }
 ],
 "metadata": {
  "kernelspec": {
   "display_name": "Python 3",
   "language": "python",
   "name": "python3"
  },
  "language_info": {
   "codemirror_mode": {
    "name": "ipython",
    "version": 3
   },
   "file_extension": ".py",
   "mimetype": "text/x-python",
   "name": "python",
   "nbconvert_exporter": "python",
   "pygments_lexer": "ipython3",
   "version": "3.7.5"
  }
 },
 "nbformat": 4,
 "nbformat_minor": 2
}
