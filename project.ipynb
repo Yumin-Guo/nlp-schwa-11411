{
 "cells": [
  {
   "cell_type": "code",
   "execution_count": 3,
   "id": "80d53980",
   "metadata": {},
   "outputs": [
    {
     "name": "stderr",
     "output_type": "stream",
     "text": [
      "2021-11-11 22:06:19 INFO: Loading these models for language: en (English):\n",
      "============================\n",
      "| Processor    | Package   |\n",
      "----------------------------\n",
      "| tokenize     | combined  |\n",
      "| pos          | combined  |\n",
      "| lemma        | combined  |\n",
      "| depparse     | combined  |\n",
      "| sentiment    | sstplus   |\n",
      "| constituency | wsj       |\n",
      "| ner          | ontonotes |\n",
      "============================\n",
      "\n",
      "2021-11-11 22:06:19 INFO: Use device: cpu\n",
      "2021-11-11 22:06:19 INFO: Loading: tokenize\n",
      "2021-11-11 22:06:19 INFO: Loading: pos\n",
      "2021-11-11 22:06:20 INFO: Loading: lemma\n",
      "2021-11-11 22:06:20 INFO: Loading: depparse\n",
      "2021-11-11 22:06:20 INFO: Loading: sentiment\n",
      "2021-11-11 22:06:21 INFO: Loading: constituency\n",
      "2021-11-11 22:06:21 INFO: Loading: ner\n",
      "2021-11-11 22:06:22 INFO: Done loading processors!\n"
     ]
    }
   ],
   "source": [
    "import spacy\n",
    "import nltk\n",
    "import stanza\n",
    "import neuralcoref\n",
    "from nltk.stem.lancaster import LancasterStemmer\n",
    "st = LancasterStemmer()\n",
    "nlp_s = stanza.Pipeline('en')\n",
    "nlp = spacy.load(\"en_core_web_sm\")\n",
    "neuralcoref.add_to_pipe(nlp)\n",
    "from nltk import Tree\n",
    "import io"
   ]
  },
  {
   "cell_type": "markdown",
   "id": "ad27cd37",
   "metadata": {},
   "source": [
    "## Load the data"
   ]
  },
  {
   "cell_type": "code",
   "execution_count": 4,
   "id": "886dbf40",
   "metadata": {},
   "outputs": [],
   "source": [
    "a1_path = \"./Desktop/11411/project/Project-Data/set4/a1.txt\"\n",
    "a2_path = \"./Desktop/11411/project/Project-Data/set4/a2.txt\"\n",
    "a3_path = \"./Desktop/11411/project/Project-Data/set4/a3.txt\"\n",
    "a4_path = \"./Desktop/11411/project/Project-Data/set4/a4.txt\"\n",
    "a5_path = \"./Desktop/11411/project/Project-Data/set4/a5.txt\"\n",
    "a6_path = \"./Desktop/11411/project/Project-Data/set4/a6.txt\"\n",
    "a7_path = \"./Desktop/11411/project/Project-Data/set4/a7.txt\"\n",
    "a8_path = \"./Desktop/11411/project/Project-Data/set4/a8.txt\"\n",
    "a9_path = \"./Desktop/11411/project/Project-Data/set4/a9.txt\""
   ]
  },
  {
   "cell_type": "code",
   "execution_count": 5,
   "id": "da73d86d",
   "metadata": {},
   "outputs": [],
   "source": [
    "def get_article(path):\n",
    "    with io.open(path, \"r\", encoding=\"utf-8\") as f:\n",
    "        article = f.read()\n",
    "    return article"
   ]
  },
  {
   "cell_type": "code",
   "execution_count": 6,
   "id": "86e57853",
   "metadata": {},
   "outputs": [],
   "source": [
    "a1 = get_article(a1_path)\n",
    "a2 = get_article(a2_path)\n",
    "a3 = get_article(a3_path)\n",
    "a4 = get_article(a4_path)\n",
    "a5 = get_article(a5_path)\n",
    "a6 = get_article(a6_path)\n",
    "a7 = get_article(a7_path)\n",
    "a8 = get_article(a8_path)\n",
    "a9 = get_article(a9_path)"
   ]
  },
  {
   "cell_type": "code",
   "execution_count": 7,
   "id": "94093149",
   "metadata": {},
   "outputs": [],
   "source": [
    "a1_annotated = nlp(a1)\n",
    "a2_annotated = nlp(a2)\n",
    "a3_annotated = nlp(a3)\n",
    "a4_annotated = nlp(a4)\n",
    "a5_annotated = nlp(a5)\n",
    "a6_annotated = nlp(a6)\n",
    "a7_annotated = nlp(a7)\n",
    "a8_annotated = nlp(a8)\n",
    "a9_annotated = nlp(a9)"
   ]
  },
  {
   "cell_type": "code",
   "execution_count": 8,
   "id": "00ac2df9",
   "metadata": {},
   "outputs": [],
   "source": [
    "film_questions = [\n",
    "    \"What is the genre of the film?\",\n",
    "    \"When was the film released?\", \n",
    "    \"Who is the director of the film?\",\n",
    "    \"What is the box office of the film?\",\n",
    "    \"What is the film criticised for?\",\n",
    "    \"What are some characters in the film?\",\n",
    "    \"Did the film win any awards?\",\n",
    "    \"Is the film a success?\"\n",
    "]"
   ]
  },
  {
   "cell_type": "markdown",
   "id": "2b8733d3",
   "metadata": {},
   "source": [
    "## Try to get candidate sentences"
   ]
  },
  {
   "cell_type": "code",
   "execution_count": 9,
   "id": "b3379364",
   "metadata": {},
   "outputs": [],
   "source": [
    "# This function extracts a set of keywords from the question given\n",
    "def keyword(question):\n",
    "    q = nlp_s(question)  # Use stanza to annotate the question since it's more accurate\n",
    "    keywords = set([st.stem(sent.words[word.head-1].text.lower()) if word.head > 0 else word.text for sent in q.sentences for word in sent.words])\n",
    "    return keywords"
   ]
  },
  {
   "cell_type": "code",
   "execution_count": 11,
   "id": "0c9a2519",
   "metadata": {},
   "outputs": [],
   "source": [
    "# This function returns a list of candidate sentences by searching the keywords in the doc \n",
    "# params: doc is annotated and keywords is a set\n",
    "# ret: candidates is a list of sentence\n",
    "def candidates(doc, keywords):\n",
    "    candidates = []\n",
    "    for sent in doc.sents:\n",
    "        check1 = set([st.stem(token.lemma_) for token in sent if token.dep_ in {\"ROOT\", \"nbsuj\", \"obj\"}])\n",
    "        check2 = set([st.stem(chunk.root.head.lemma_) for chunk in sent.noun_chunks])\n",
    "        check1.update(check2)\n",
    "        for keyword in keywords:\n",
    "            if keyword in check1:\n",
    "                candidates.append(sent)\n",
    "                break\n",
    "        \n",
    "    return candidates"
   ]
  },
  {
   "cell_type": "markdown",
   "id": "b626e28a",
   "metadata": {},
   "source": [
    "### Test out code"
   ]
  },
  {
   "cell_type": "code",
   "execution_count": 14,
   "id": "d8cdee33",
   "metadata": {},
   "outputs": [
    {
     "name": "stdout",
     "output_type": "stream",
     "text": [
      "Quesion:  What is the genre of the film?\n",
      "Candidates: []\n",
      "\n",
      "\n",
      "\n",
      "Quesion:  When was the film released?\n",
      "Candidates: [The soundtrack was released on 21 October 2011 through Sony Classical Records.\n",
      "\n",
      "\n",
      ", Following its wins at the 69th Golden Globe Awards, it was announced Warner Bros. would re-release the film in France in 362 theaters on 25 January 2012., It was also re-released in Belgium on 22 February 2012.\n",
      "\n",
      "\n",
      ", In response, director Hazanavicius released a statement:\n",
      "\n",
      "\"The Artist was made as a love letter to cinema, and grew out of my (and all of my cast and crew’s) admiration and respect for movies throughout history., The Artist was released on region 1 DVD and Blu-ray on 26 June 2012., It was released in the UK on 28 May 2012.\n",
      "\n",
      "\n",
      "]\n",
      "\n",
      "\n",
      "\n",
      "Quesion:  Who is the director of the film?\n",
      "Candidates: [In January 2012, the film was nominated for twelve BAFTAs, the most of any film from 2011, and won seven, including Best Film, Best Director and Best Original Screenplay for Hazanavicius, and Best Actor for Dujardin.\n",
      ", He decides to produce and direct his own silent film, financing it himself., The director of the musical calls out audibly, \"Cut!\" to which Zimmer adds: \"Perfect.]\n",
      "\n",
      "\n",
      "\n",
      "Quesion:  What is the box office of the film?\n",
      "Candidates: []\n",
      "\n",
      "\n",
      "\n",
      "Quesion:  What is the film criticised for?\n",
      "Candidates: []\n",
      "\n",
      "\n",
      "\n",
      "Quesion:  What are some characters in the film?\n",
      "Candidates: []\n",
      "\n",
      "\n",
      "\n",
      "Quesion:  Did the film win any awards?\n",
      "Candidates: [The Artist received highly positive reviews from critics and won many accolades., Dujardin won the Best Actor Award at the 2011 Cannes Film Festival, where the film premiered., It was also the first French film to ever win Best Picture, and the first mainly silent film to win since 1927's Wings won at the 1st Academy Awards in 1929., At the 65th British Academy Film Awards, the film won seven awards, including Best Film, Best Actor for Dujardin, Best Original Screenplay for Hazanavicius, Cinematography for Schiffman, Costume Design for Bridges and Original Score for Ludovic Bource., At the 84th Academy Awards, The Artist received ten nominations, winning five awards, including Best Picture, Best Director for Hazanavicius, Best Actor in a Leading Role for Jean Dujardin, Best Costume Design, and Best Original Score.\n",
      "\n",
      "\n",
      "]\n",
      "\n",
      "\n",
      "\n",
      "Quesion:  Is the film a success?\n",
      "Candidates: []\n",
      "\n",
      "\n",
      "\n"
     ]
    }
   ],
   "source": [
    "for question in film_questions:\n",
    "    print(\"Quesion: \", question)\n",
    "    keywords = keyword(question)\n",
    "    keywords.remove(\"film\")\n",
    "    l = candidates(a1_annotated, keywords)\n",
    "    print(\"Candidates:\", l)\n",
    "    print(\"\\n\\n\")"
   ]
  },
  {
   "cell_type": "code",
   "execution_count": 15,
   "id": "07780015",
   "metadata": {},
   "outputs": [
    {
     "name": "stdout",
     "output_type": "stream",
     "text": [
      "Quesion:  What is the genre of the film?\n",
      "Candidates: []\n",
      "\n",
      "\n",
      "\n",
      "Quesion:  When was the film released?\n",
      "Candidates: [The film was released in France on 2 February 2011, under the title, An alternate version, with some of the profanities muted out, was classified as \"PG-13\" in the United States; this version was released to cinemas on 1 April 2011, replacing the R-rated one.]\n",
      "\n",
      "\n",
      "\n",
      "Quesion:  Who is the director of the film?\n",
      "Candidates: [The film also won four Academy Awards: Best Picture, Best Director (Hooper), Best Actor (Firth), and Best Original Screenplay (Seidler).\n",
      "\n",
      "\n",
      ", I think a less courageous director than Tom [Hooper] – and indeed a less courageous actor than Colin, At the 83rd Academy Awards, The King's Speech won the Academy Award for Best Picture, Best Director (Hooper), Best Actor (Firth), and Best Original Screenplay (Seidler)., Besides the four categories it won, the film received nominations for Best Cinematography (Danny Cohen) and two for the supporting actors (Bonham Carter and Rush), as well as two for its mise-en-scène: Art Direction and Costumes.\n",
      "]\n",
      "\n",
      "\n",
      "\n",
      "Quesion:  What is the box office of the film?\n",
      "Candidates: [A third technique Hooper employed was the off-centre framing of characters: in his first consultation with Logue, George VI is captured hunched on the side of a couch at the edge of the frame.\n",
      ", Released in the United Kingdom on 7 January 2011, The King's Speech was a major box office and critical success., Prince Albert leaves in anger but Logue offers him the recording as a keepsake.\n",
      "\n",
      ", Knowing the challenge that lies before him, the Archbishop of Canterbury, Winston Churchill and Prime Minister Neville Chamberlain are present to offer support.]\n",
      "\n",
      "\n",
      "\n",
      "Quesion:  What is the film criticised for?\n",
      "Candidates: [They also criticised the film for failing to indict the appeasement of the era., The cinema release poster was re-designed to show an extreme close-up of Firth's jaw and a microphone after Hooper criticised the first design as a \"train smash\"., At the London Film Festival, Hooper criticised the decision, questioning how the board could certify the film \"15\" for bad language but allow films such as Salt (2010) and Casino Royale (2006) to have \"12A\" ratings, despite their graphic torture scenes., In his review, Roger Ebert criticised the \"R\" rating, calling it \"utterly inexplicable\", and wrote, \"This is an excellent film for teenagers.]\n",
      "\n",
      "\n",
      "\n",
      "Quesion:  What are some characters in the film?\n",
      "Candidates: [Le Monde, which characterised the film as the \"latest manifestation of British narcissism\" and summarised it as \"We are ugly and boring, but,]\n",
      "\n",
      "\n",
      "\n",
      "Quesion:  Did the film win any awards?\n",
      "Candidates: [The film received many awards and nominations, particularly for Colin Firth's performance; his Golden Globe Award for Best Actor was the sole win at that ceremony from seven nominations., The King's Speech won seven British Academy Film Awards, including Best Picture, Best Actor (Firth), Best Supporting Actor (Rush), and Best Supporting Actress (Helena Bonham Carter)., The film also won four Academy Awards: Best Picture, Best Director (Hooper), Best Actor (Firth), and Best Original Screenplay (Seidler).\n",
      "\n",
      "\n",
      ", The UK Film Council awarded the production £1 million in June 2009., The score was nominated for several awards, including Best Original Score at the Oscars, Golden Globes, and BAFTAs, winning the latter award., The score also won a Grammy at the 54th Grammy Awards.\n",
      "\n",
      "\n",
      ", It was screened at the 2010 Toronto International Film Festival, on Firth's 50th birthday, where it received a standing ovation and won the People's Choice Award., \"It is an intelligent, winning drama fit for a king – and the rest of us\", she said., Roger Ebert of the Chicago Sun-Times awarded the film a full four stars, commenting that \"what we have here is a superior historical drama and a powerful personal one., Awards and nominationsEdit\n",
      "\n",
      ", At the 83rd Academy Awards, The King's Speech won the Academy Award for Best Picture, Best Director (Hooper), Best Actor (Firth), and Best Original Screenplay (Seidler)., Besides the four categories it won, the film received nominations for Best Cinematography (Danny Cohen) and two for the supporting actors (Bonham Carter and Rush), as well as two for its mise-en-scène: Art Direction and Costumes.\n",
      ", At the 64th British Academy Film Awards, it won seven awards, including Best Film, Outstanding British Film, Best Actor for Firth, Best Supporting Actor for Rush, Best Supporting Actress for Bonham Carter, Best Original Screenplay for Seidler, and Best Music for Alexandre Desplat., At the 68th Golden Globe Awards, Firth won for Best Actor., The film won no other Golden Globes, despite earning seven nominations, more than any other film.\n",
      ", It is also the first Weinstein film to win the Oscar for Best Picture.\n",
      ", At the 17th Screen Actors Guild Awards, Firth won the Best Actor award and the entire cast won Best Ensemble, meaning Firth went home with two acting awards in one evening., Hooper won the Directors Guild of America Awards 2010 for Best Director., The film won the Darryl F. Zanuck Award for Best Theatrical Motion Picture at the Producers Guild of America Awards 2010.\n",
      ", The King's Speech won the People's Choice Award at the 2010 Toronto International Film Festival, Best British Independent Film at the 2010 British Independent Film Awards, and the 2011 Goya Award for Best European Film from the Academia de las Artes y las Ciencias Cinematográficas de España]\n",
      "\n",
      "\n",
      "\n",
      "Quesion:  Is the film a success?\n",
      "Candidates: [When King Edward decides to abdicate in order to marry Simpson, Albert reluctantly succeeds as King George VI.]\n",
      "\n",
      "\n",
      "\n"
     ]
    }
   ],
   "source": [
    "for question in film_questions:\n",
    "    print(\"Quesion: \", question)\n",
    "    keywords = keyword(question)\n",
    "    keywords.remove(\"film\")\n",
    "    l = candidates(a2_annotated, keywords)\n",
    "    print(\"Candidates:\", l)\n",
    "    print(\"\\n\\n\")"
   ]
  },
  {
   "cell_type": "code",
   "execution_count": null,
   "id": "c2077ddd",
   "metadata": {},
   "outputs": [],
   "source": []
  },
  {
   "cell_type": "code",
   "execution_count": null,
   "id": "d5963f33",
   "metadata": {},
   "outputs": [],
   "source": []
  }
 ],
 "metadata": {
  "kernelspec": {
   "display_name": "env1",
   "language": "python",
   "name": "env1"
  },
  "language_info": {
   "codemirror_mode": {
    "name": "ipython",
    "version": 3
   },
   "file_extension": ".py",
   "mimetype": "text/x-python",
   "name": "python",
   "nbconvert_exporter": "python",
   "pygments_lexer": "ipython3",
   "version": "3.7.11"
  }
 },
 "nbformat": 4,
 "nbformat_minor": 5
}
